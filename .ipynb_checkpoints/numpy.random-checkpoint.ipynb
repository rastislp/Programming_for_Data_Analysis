{
 "cells": [
  {
   "cell_type": "markdown",
   "metadata": {},
   "source": [
    "# Numpy.Random Assignment\n",
    "\n",
    "Author: Rastislav Petras G00252861"
   ]
  },
  {
   "cell_type": "markdown",
   "metadata": {},
   "source": [
    "----"
   ]
  },
  {
   "cell_type": "markdown",
   "metadata": {},
   "source": [
    "## Briefly about assignment"
   ]
  },
  {
   "cell_type": "markdown",
   "metadata": {},
   "source": [
    "An important part of any simulation is the ability to generate random numbers. For this purpose, NumPy provides various routines in the submodule random. NumPy performs data manipulation on numerical data. It enables to collect numeric data into a data structure, called the NumPy array [1]. Random module implements pseudo-random number generators for various distributions. Scope of this assessment is to asses Numpy v 1.19 specifically  Generator which provides access to a wide range of distributions. Main focus is to test and learn about simple random data , Permutations and Distributions.  Very last part of assessment is to review random generator, particularly seeds.Most of the time I am working with NumPy v1.19 Manual documentation[2].  Lets started."
   ]
  },
  {
   "cell_type": "markdown",
   "metadata": {},
   "source": [
    "----"
   ]
  },
  {
   "cell_type": "markdown",
   "metadata": {},
   "source": [
    "## Hold on. \n",
    "Package, module, routine? Let me explain. Numpy **package** is a library for the Python programming language, adding support for large, multi-dimensional arrays and matrices, along with a **large collection of high-level mathematical functions** to operate on these arrays. **Module** random produce pseudo random numbers that are available in many of types of routines. **Routine** is a specific approach to obtain certain types of random data. "
   ]
  },
  {
   "cell_type": "markdown",
   "metadata": {},
   "source": [
    "Start with a importing Numpy package"
   ]
  },
  {
   "cell_type": "code",
   "execution_count": 1,
   "metadata": {},
   "outputs": [],
   "source": [
    "#Import NumPy package\n",
    "# np becomes prefix of numpy library and it's used each time i call a module function \n",
    "import numpy as np"
   ]
  },
  {
   "cell_type": "markdown",
   "metadata": {},
   "source": [
    "Routine **rand** creates an array of the given shape and populate it with random samples from a uniform distribution over (0,1)."
   ]
  },
  {
   "cell_type": "code",
   "execution_count": 2,
   "metadata": {},
   "outputs": [
    {
     "data": {
      "text/plain": [
       "array([0.09748753, 0.07715445, 0.01288578, 0.67585915, 0.50313628])"
      ]
     },
     "execution_count": 2,
     "metadata": {},
     "output_type": "execute_result"
    }
   ],
   "source": [
    "# generates random one dimensional array with 5 numbers\n",
    "np.random.rand(5)"
   ]
  },
  {
   "cell_type": "markdown",
   "metadata": {},
   "source": [
    "Multi-dimensional array can be generated simply by extending of number parameters within rand function. numpy.random.rand(d0, d1, ..., dn) "
   ]
  },
  {
   "cell_type": "code",
   "execution_count": 3,
   "metadata": {},
   "outputs": [
    {
     "data": {
      "text/plain": [
       "array([[[0.9142496 , 0.66483347, 0.41986402, 0.69444197],\n",
       "        [0.72308614, 0.88442081, 0.39075517, 0.83500974],\n",
       "        [0.22083169, 0.94009628, 0.41808253, 0.38584894]],\n",
       "\n",
       "       [[0.52280321, 0.06155272, 0.93579074, 0.19981446],\n",
       "        [0.24630329, 0.94962774, 0.20005713, 0.52393538],\n",
       "        [0.72125264, 0.52167801, 0.89454587, 0.55394004]]])"
      ]
     },
     "execution_count": 3,
     "metadata": {},
     "output_type": "execute_result"
    }
   ],
   "source": [
    "# generates random 2 dimensional array with 5 numbers\n",
    "np.random.rand(2,3,4)"
   ]
  },
  {
   "cell_type": "markdown",
   "metadata": {},
   "source": [
    "**Randit** returns random integers from given range. Lowest number from range if given is included while highest is excluded. Size is defaulted to single output however that could be managed with parameter size.   "
   ]
  },
  {
   "cell_type": "code",
   "execution_count": 4,
   "metadata": {},
   "outputs": [
    {
     "data": {
      "text/plain": [
       "0"
      ]
     },
     "execution_count": 4,
     "metadata": {},
     "output_type": "execute_result"
    }
   ],
   "source": [
    "# single output from range 0 inclusive to 10 exclusive\n",
    "np.random.randint(10)"
   ]
  },
  {
   "cell_type": "code",
   "execution_count": 5,
   "metadata": {},
   "outputs": [
    {
     "data": {
      "text/plain": [
       "9"
      ]
     },
     "execution_count": 5,
     "metadata": {},
     "output_type": "execute_result"
    }
   ],
   "source": [
    "# single output from range 5 inclusive to 10 exclusive\n",
    "np.random.randint(5,10)"
   ]
  },
  {
   "cell_type": "code",
   "execution_count": 6,
   "metadata": {},
   "outputs": [
    {
     "data": {
      "text/plain": [
       "array([9, 8, 9])"
      ]
     },
     "execution_count": 6,
     "metadata": {},
     "output_type": "execute_result"
    }
   ],
   "source": [
    "# multiple output determined by size parameter from range 5 inclusive to 10 exclusive\n",
    "np.random.randint(5,10,size=3)"
   ]
  },
  {
   "cell_type": "markdown",
   "metadata": {},
   "source": [
    "**rand VS randn** or what is difference between uniform and normal distribution"
   ]
  },
  {
   "cell_type": "markdown",
   "metadata": {},
   "source": [
    "![Image of normal vs uniform distribution](https://github.com/rastislp/Programming_for_Data_Analysis/blob/main/images/normalVSuniform.PNG?raw=true)"
   ]
  },
  {
   "cell_type": "markdown",
   "metadata": {},
   "source": [
    "**Uniform** Distribution is a probability distribution where probability of x is constant. That is to say, all points in range are equally likely to occur consequently it looks like a rectangle. Formula for Uniform probability distribution is f(x) = 1/(b-a), where range of distribution is [a, b]. Other words all points are equally distributed among all bins/ sectors with approximately same hight. "
   ]
  },
  {
   "cell_type": "markdown",
   "metadata": {},
   "source": [
    "**Normal** Distribution is a probability distribution which peaks out in the middle and gradually decreases towards both ends of axis.  It is also known as gaussian distribution and bell curve because of its bell like shape[3]. This is more likely most common distribution in real life examples."
   ]
  },
  {
   "cell_type": "markdown",
   "metadata": {},
   "source": [
    "To demonstrate and visualize differences between distributions I will use matplot library in contrast with rand and randn function."
   ]
  },
  {
   "cell_type": "code",
   "execution_count": 7,
   "metadata": {},
   "outputs": [],
   "source": [
    "# Import matplotlib package\n",
    "import matplotlib.pyplot as plt"
   ]
  },
  {
   "cell_type": "markdown",
   "metadata": {},
   "source": [
    "### Uniform distribution"
   ]
  },
  {
   "cell_type": "code",
   "execution_count": 28,
   "metadata": {},
   "outputs": [
    {
     "data": {
      "text/plain": [
       "(array([100., 100.,  99., 100., 102.,  99., 103., 110.,  87., 100.]),\n",
       " array([7.80640020e-04, 1.00394668e-01, 2.00008697e-01, 2.99622725e-01,\n",
       "        3.99236754e-01, 4.98850782e-01, 5.98464811e-01, 6.98078839e-01,\n",
       "        7.97692867e-01, 8.97306896e-01, 9.96920924e-01]),\n",
       " <a list of 10 Patch objects>)"
      ]
     },
     "execution_count": 28,
     "metadata": {},
     "output_type": "execute_result"
    },
    {
     "data": {
      "image/png": "[encoded data removed]",
      "text/plain": [
       "<Figure size 720x144 with 1 Axes>"
      ]
     },
     "metadata": {
      "needs_background": "light"
     },
     "output_type": "display_data"
    }
   ],
   "source": [
    "# resizing of chart\n",
    "plt.figure(figsize=[10,2])\n",
    "# generate 1000 random numbers between 0 inclusive and 1 exclusive \n",
    "x = np.random.rand(1000)\n",
    "plt.title('Uniform Distribution Histogram')\n",
    "# plot x label\n",
    "plt.ylabel('Frequency')\n",
    "# plot y label\n",
    "plt.xlabel('Value')\n",
    "# plot a histogram\n",
    "plt.hist(x)"
   ]
  },
  {
   "cell_type": "markdown",
   "metadata": {},
   "source": [
    "Output returns 2 arrays where first array displays count of ocurencies from each range and second array with a list of all random numbers. Random numbers are almost equally distributed along full range of numbers between 0 and 1."
   ]
  },
  {
   "cell_type": "markdown",
   "metadata": {},
   "source": [
    "### Normal (Standard) distribution"
   ]
  },
  {
   "cell_type": "code",
   "execution_count": 39,
   "metadata": {},
   "outputs": [
    {
     "data": {
      "text/plain": [
       "(array([  2.,  19., 112., 228., 324., 215.,  78.,  18.,   3.,   1.]),\n",
       " array([-3.56084415, -2.75351556, -1.94618696, -1.13885837, -0.33152978,\n",
       "         0.47579881,  1.2831274 ,  2.09045599,  2.89778459,  3.70511318,\n",
       "         4.51244177]),\n",
       " <a list of 10 Patch objects>)"
      ]
     },
     "execution_count": 39,
     "metadata": {},
     "output_type": "execute_result"
    },
    {
     "data": {
      "image/png": "[encoded data removed]",
      "text/plain": [
       "<Figure size 720x144 with 1 Axes>"
      ]
     },
     "metadata": {
      "needs_background": "light"
     },
     "output_type": "display_data"
    }
   ],
   "source": [
    "# resizing of chart\n",
    "plt.figure(figsize=[10,2])\n",
    "# generate 1000 random numbers  \n",
    "x = np.random.randn(1000)\n",
    "plt.title('Normal Distribution Histogram using randn function')\n",
    "# plot x label\n",
    "plt.ylabel('Frequency')\n",
    "# plot y label\n",
    "plt.xlabel('Value')\n",
    "# plot a histogram\n",
    "plt.hist(x)"
   ]
  },
  {
   "cell_type": "markdown",
   "metadata": {},
   "source": [
    "Another way of calculating normal distribution calling \"normal\" function."
   ]
  },
  {
   "cell_type": "code",
   "execution_count": 40,
   "metadata": {},
   "outputs": [
    {
     "data": {
      "text/plain": [
       "(array([  7.,  26.,  82., 172., 215., 229., 157.,  85.,  22.,   5.]),\n",
       " array([ 997.0069663 ,  997.61903613,  998.23110595,  998.84317578,\n",
       "         999.45524561, 1000.06731543, 1000.67938526, 1001.29145509,\n",
       "        1001.90352491, 1002.51559474, 1003.12766457]),\n",
       " <a list of 10 Patch objects>)"
      ]
     },
     "execution_count": 40,
     "metadata": {},
     "output_type": "execute_result"
    },
    {
     "data": {
      "image/png": "[encoded data removed]",
      "text/plain": [
       "<Figure size 720x144 with 1 Axes>"
      ]
     },
     "metadata": {
      "needs_background": "light"
     },
     "output_type": "display_data"
    }
   ],
   "source": [
    "# resizing of chart\n",
    "plt.figure(figsize=[10,2])\n",
    "# generate 1000 random numbers with a normal distribution\n",
    "x = np.random.normal(1000,size=1000)\n",
    "plt.title('Normal Distribution Histogram using normal function')\n",
    "# plot x label\n",
    "plt.ylabel('Frequency')\n",
    "# plot y label\n",
    "plt.xlabel('Value')\n",
    "# plot a histogram\n",
    "plt.hist(x)"
   ]
  },
  {
   "cell_type": "markdown",
   "metadata": {},
   "source": [
    "Normal distribution, also known as the Gaussian distribution, is a probability distribution that is symmetric about the mean, showing that data near the mean are more frequent in occurrence than data far from the mean. In graph form, normal distribution will appear as a bell curve."
   ]
  },
  {
   "cell_type": "markdown",
   "metadata": {},
   "source": [
    "### Referencing:"
   ]
  },
  {
   "cell_type": "markdown",
   "metadata": {},
   "source": [
    "[1] Sight, S., 2020. How To Use Numpy Random Normal In Python – R-Craft. [online] R-Craft. Available at: <https://www.r-craft.org/r-news/how-to-use-numpy-random-normal-in-python/> [Accessed 16 November 2020]."
   ]
  },
  {
   "cell_type": "markdown",
   "metadata": {},
   "source": [
    "[2] Numpy.org. 2020. Random Sampling (Numpy.Random) — Numpy V1.19 Manual. [online] Available at: <https://numpy.org/doc/stable/reference/random/index.html> [Accessed 16 November 2020]."
   ]
  },
  {
   "cell_type": "markdown",
   "metadata": {},
   "source": [
    "[3] THAT-A-SCIENCE. 2020. Normal Distribution Vs Uniform Distribution | Numpy | THAT-A-SCIENCE. [online] Available at: <https://thatascience.com/learn-numpy/normal-vs-uniform/#:~:text=Normal%20Distribution%20is%20a%20probability,probability%20of%20x%20is%20constant.&text=Uniform%20Distribution%20is%20a%20probability%20distribution%20where%20probability%20of%20x%20is%20constant.> [Accessed 16 November 2020]."
   ]
  },
  {
   "cell_type": "markdown",
   "metadata": {},
   "source": [
    "[4] En.wikipedia.org. 2020. Normal Distribution. [online] Available at: <https://en.wikipedia.org/wiki/Normal_distribution> [Accessed 16 November 2020]."
   ]
  },
  {
   "cell_type": "code",
   "execution_count": null,
   "metadata": {},
   "outputs": [],
   "source": []
  }
 ],
 "metadata": {
  "kernelspec": {
   "display_name": "Python 3",
   "language": "python",
   "name": "python3"
  },
  "language_info": {
   "codemirror_mode": {
    "name": "ipython",
    "version": 3
   },
   "file_extension": ".py",
   "mimetype": "text/x-python",
   "name": "python",
   "nbconvert_exporter": "python",
   "pygments_lexer": "ipython3",
   "version": "3.7.4"
  }
 },
 "nbformat": 4,
 "nbformat_minor": 2
}
