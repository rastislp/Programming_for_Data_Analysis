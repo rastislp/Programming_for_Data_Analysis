{
 "cells": [
  {
   "cell_type": "markdown",
   "metadata": {},
   "source": [
    "# Numpy.Random Assignment\n",
    "\n",
    "Author: Rastislav Petras G00252861"
   ]
  },
  {
   "cell_type": "markdown",
   "metadata": {},
   "source": [
    "----"
   ]
  },
  {
   "cell_type": "markdown",
   "metadata": {},
   "source": [
    "## Briefly about assignment"
   ]
  },
  {
   "cell_type": "markdown",
   "metadata": {},
   "source": [
    "An important part of any simulation is the ability to generate random numbers. For this purpose, NumPy provides various routines in the submodule random. NumPy performs data manipulation on numerical data. It enables to collect numeric data into a data structure, called the NumPy array [1]. Random module implements pseudo-random number generators for various distributions. Scope of this assessment is to asses Numpy v 1.19 specifically  Generator which provides access to a wide range of distributions. Main focus is to test and learn about simple random data , Permutations and Distributions.  Very last part of assessment is to review random generator, particularly seeds.Most of the time I am working with NumPy v1.19 Manual documentation[2].  Lets started."
   ]
  },
  {
   "cell_type": "markdown",
   "metadata": {},
   "source": [
    "----"
   ]
  },
  {
   "cell_type": "markdown",
   "metadata": {},
   "source": [
    "## Hold on. \n",
    "Package, module, routine? Let me explain. Numpy **package** is a library for the Python programming language, adding support for large, multi-dimensional arrays and matrices, along with a **large collection of high-level mathematical functions** to operate on these arrays. **Module** random produce pseudo random numbers that are available in many of types of routines. **Routine** is a specific approach to obtain certain types of random data. "
   ]
  },
  {
   "cell_type": "markdown",
   "metadata": {},
   "source": [
    "Start with a importing Numpy package"
   ]
  },
  {
   "cell_type": "code",
   "execution_count": 31,
   "metadata": {},
   "outputs": [],
   "source": [
    "#Import NumPy package\n",
    "# np becomes prefix of numpy library and it's used each time i call a module function \n",
    "import numpy as np"
   ]
  },
  {
   "cell_type": "markdown",
   "metadata": {},
   "source": [
    "Routine **rand** creates an array of the given shape and populate it with random samples from a uniform distribution over (0,1)."
   ]
  },
  {
   "cell_type": "code",
   "execution_count": 36,
   "metadata": {},
   "outputs": [
    {
     "data": {
      "text/plain": [
       "array([0.36235832, 0.01950858, 0.67225776, 0.99736084, 0.63527308])"
      ]
     },
     "execution_count": 36,
     "metadata": {},
     "output_type": "execute_result"
    }
   ],
   "source": [
    "# generates random one dimensional array with 5 numbers\n",
    "np.random.rand(5)"
   ]
  },
  {
   "cell_type": "markdown",
   "metadata": {},
   "source": [
    "Multi-dimensional array can be generated simply by extending of number parameters within rand function. numpy.random.rand(d0, d1, ..., dn) "
   ]
  },
  {
   "cell_type": "code",
   "execution_count": 39,
   "metadata": {},
   "outputs": [
    {
     "data": {
      "text/plain": [
       "array([[[0.15920912, 0.05746101, 0.38049279, 0.42613202],\n",
       "        [0.55854605, 0.71352961, 0.98668393, 0.51808121],\n",
       "        [0.76822274, 0.54247515, 0.19211929, 0.67803029]],\n",
       "\n",
       "       [[0.69017101, 0.71140308, 0.13711196, 0.11871677],\n",
       "        [0.36657031, 0.91700039, 0.71793129, 0.14527853],\n",
       "        [0.35899711, 0.30612952, 0.3372307 , 0.27122435]]])"
      ]
     },
     "execution_count": 39,
     "metadata": {},
     "output_type": "execute_result"
    }
   ],
   "source": [
    "# generates random 3 dimensional array with 5 numbers\n",
    "np.random.rand(2,3,4)"
   ]
  },
  {
   "cell_type": "markdown",
   "metadata": {},
   "source": [
    "**Randit** returns random integers from given range. Lowest number from range if given is included while highest is excluded. Size is defaulted to single output however that could be managed with parameter size.   "
   ]
  },
  {
   "cell_type": "code",
   "execution_count": 51,
   "metadata": {},
   "outputs": [
    {
     "data": {
      "text/plain": [
       "6"
      ]
     },
     "execution_count": 51,
     "metadata": {},
     "output_type": "execute_result"
    }
   ],
   "source": [
    "# single output from range 0 inclusive to 10 exclusive\n",
    "np.random.randint(10)"
   ]
  },
  {
   "cell_type": "code",
   "execution_count": 54,
   "metadata": {},
   "outputs": [
    {
     "data": {
      "text/plain": [
       "5"
      ]
     },
     "execution_count": 54,
     "metadata": {},
     "output_type": "execute_result"
    }
   ],
   "source": [
    "# single output from range 5 inclusive to 10 exclusive\n",
    "np.random.randint(5,10)"
   ]
  },
  {
   "cell_type": "code",
   "execution_count": 56,
   "metadata": {},
   "outputs": [
    {
     "data": {
      "text/plain": [
       "array([7, 5, 9])"
      ]
     },
     "execution_count": 56,
     "metadata": {},
     "output_type": "execute_result"
    }
   ],
   "source": [
    "# multiple output determined by size parameter from range 5 inclusive to 10 exclusive\n",
    "np.random.randint(5,10,size=3)"
   ]
  },
  {
   "cell_type": "markdown",
   "metadata": {},
   "source": [
    "**rand VS randn** or what is difference between uniform and normal distribution"
   ]
  },
  {
   "cell_type": "markdown",
   "metadata": {},
   "source": []
  },
  {
   "cell_type": "markdown",
   "metadata": {},
   "source": []
  },
  {
   "cell_type": "markdown",
   "metadata": {},
   "source": []
  },
  {
   "cell_type": "markdown",
   "metadata": {},
   "source": [
    "### Referencing:"
   ]
  },
  {
   "cell_type": "markdown",
   "metadata": {},
   "source": [
    "[1] Sight, S., 2020. How To Use Numpy Random Normal In Python – R-Craft. [online] R-Craft. Available at: <https://www.r-craft.org/r-news/how-to-use-numpy-random-normal-in-python/> [Accessed 16 November 2020]."
   ]
  },
  {
   "cell_type": "markdown",
   "metadata": {},
   "source": [
    "[2] Numpy.org. 2020. Random Sampling (Numpy.Random) — Numpy V1.19 Manual. [online] Available at: <https://numpy.org/doc/stable/reference/random/index.html> [Accessed 16 November 2020]."
   ]
  },
  {
   "cell_type": "code",
   "execution_count": null,
   "metadata": {},
   "outputs": [],
   "source": []
  }
 ],
 "metadata": {
  "kernelspec": {
   "display_name": "Python 3",
   "language": "python",
   "name": "python3"
  },
  "language_info": {
   "codemirror_mode": {
    "name": "ipython",
    "version": 3
   },
   "file_extension": ".py",
   "mimetype": "text/x-python",
   "name": "python",
   "nbconvert_exporter": "python",
   "pygments_lexer": "ipython3",
   "version": "3.7.4"
  }
 },
 "nbformat": 4,
 "nbformat_minor": 2
}
