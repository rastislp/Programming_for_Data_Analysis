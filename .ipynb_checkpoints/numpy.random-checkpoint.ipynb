{
 "cells": [
  {
   "cell_type": "markdown",
   "metadata": {},
   "source": [
    "# Numpy.Random Assignment\n",
    "\n",
    "Author: Rastislav Petras G00252861"
   ]
  },
  {
   "cell_type": "markdown",
   "metadata": {},
   "source": [
    "----"
   ]
  },
  {
   "cell_type": "markdown",
   "metadata": {},
   "source": [
    "## Briefly about assignment"
   ]
  },
  {
   "cell_type": "markdown",
   "metadata": {},
   "source": [
    "An important part of any simulation is the ability to generate random numbers. For this purpose, NumPy provides various routines in the submodule random. NumPy performs data manipulation on numerical data. It enables to collect numeric data into a data structure, called the NumPy array [1]. Random module implements pseudo-random number generators for various distributions. Scope of this assessment is to asses Numpy v 1.19 specifically  Generator which provides access to a wide range of distributions. Main focus is to test and learn about simple random data , Permutations and Distributions.  Very last part of assessment is to review random generator, particularly seeds.Most of the time I am working with NumPy v1.19 Manual documentation[2].  Lets started."
   ]
  },
  {
   "cell_type": "markdown",
   "metadata": {},
   "source": [
    "----"
   ]
  },
  {
   "cell_type": "markdown",
   "metadata": {},
   "source": [
    "## Hold on. \n",
    "Package, module, routine? Let me explain. Numpy **package** is a library for the Python programming language, adding support for large, multi-dimensional arrays and matrices, along with a **large collection of high-level mathematical functions** to operate on these arrays. **Module** random produce pseudo random numbers that are available in many of types of routines. **Routine** is a specific approach to obtain certain types of random data. "
   ]
  },
  {
   "cell_type": "markdown",
   "metadata": {},
   "source": [
    "Start with a importing Numpy package"
   ]
  },
  {
   "cell_type": "code",
   "execution_count": 1,
   "metadata": {},
   "outputs": [],
   "source": [
    "#Import NumPy package\n",
    "# np becomes prefix of numpy library and it's used each time i call a module function \n",
    "import numpy as np"
   ]
  },
  {
   "cell_type": "markdown",
   "metadata": {},
   "source": [
    "Routine **rand** creates an array of the given shape and populate it with random samples from a uniform distribution over (0,1)."
   ]
  },
  {
   "cell_type": "code",
   "execution_count": 2,
   "metadata": {},
   "outputs": [
    {
     "data": {
      "text/plain": [
       "array([0.11208581, 0.17809294, 0.64075162, 0.45635159, 0.11891216])"
      ]
     },
     "execution_count": 2,
     "metadata": {},
     "output_type": "execute_result"
    }
   ],
   "source": [
    "# generates random one dimensional array with 5 numbers\n",
    "np.random.rand(5)"
   ]
  },
  {
   "cell_type": "markdown",
   "metadata": {},
   "source": [
    "Multi-dimensional array can be generated simply by extending of number parameters within rand function. numpy.random.rand(d0, d1, ..., dn) "
   ]
  },
  {
   "cell_type": "code",
   "execution_count": 3,
   "metadata": {},
   "outputs": [
    {
     "data": {
      "text/plain": [
       "array([[[0.28765815, 0.90225254, 0.76621714, 0.3549656 ],\n",
       "        [0.41941724, 0.89345053, 0.6291786 , 0.58596168],\n",
       "        [0.468208  , 0.4852743 , 0.20918966, 0.85386417]],\n",
       "\n",
       "       [[0.1504985 , 0.87547987, 0.05579248, 0.61508961],\n",
       "        [0.59286257, 0.8058375 , 0.25909469, 0.86349321],\n",
       "        [0.34276985, 0.45886351, 0.25344158, 0.9792489 ]]])"
      ]
     },
     "execution_count": 3,
     "metadata": {},
     "output_type": "execute_result"
    }
   ],
   "source": [
    "# generates random 2 dimensional array with 2 sets of data consisting of 3 rows and 4 columns\n",
    "np.random.rand(2,3,4)"
   ]
  },
  {
   "cell_type": "markdown",
   "metadata": {},
   "source": [
    "**Randit** returns random integers from given range. Lowest number from range if given is included while highest is excluded. Size is defaulted to single output however that could be managed with parameter size.   "
   ]
  },
  {
   "cell_type": "code",
   "execution_count": 4,
   "metadata": {},
   "outputs": [
    {
     "data": {
      "text/plain": [
       "2"
      ]
     },
     "execution_count": 4,
     "metadata": {},
     "output_type": "execute_result"
    }
   ],
   "source": [
    "# single output from range 0 inclusive to 10 exclusive\n",
    "np.random.randint(10)"
   ]
  },
  {
   "cell_type": "code",
   "execution_count": 5,
   "metadata": {},
   "outputs": [
    {
     "data": {
      "text/plain": [
       "7"
      ]
     },
     "execution_count": 5,
     "metadata": {},
     "output_type": "execute_result"
    }
   ],
   "source": [
    "# single output from range 5 inclusive to 10 exclusive\n",
    "np.random.randint(5,10)"
   ]
  },
  {
   "cell_type": "code",
   "execution_count": 6,
   "metadata": {},
   "outputs": [
    {
     "data": {
      "text/plain": [
       "array([7, 9, 6])"
      ]
     },
     "execution_count": 6,
     "metadata": {},
     "output_type": "execute_result"
    }
   ],
   "source": [
    "# multiple output determined by size parameter from range 5 inclusive to 10 exclusive\n",
    "np.random.randint(5,10,size=3)"
   ]
  },
  {
   "cell_type": "markdown",
   "metadata": {},
   "source": [
    "**rand VS randn** or what is difference between uniform and normal distribution"
   ]
  },
  {
   "cell_type": "markdown",
   "metadata": {},
   "source": [
    "![Image of normal vs uniform distribution](https://github.com/rastislp/Programming_for_Data_Analysis/blob/main/images/normalVSuniform.PNG?raw=true)"
   ]
  },
  {
   "cell_type": "markdown",
   "metadata": {},
   "source": [
    "**Uniform** Distribution is a probability distribution where probability of x is constant. That is to say, all points in range are equally likely to occur consequently it looks like a rectangle. Formula for Uniform probability distribution is f(x) = 1/(b-a), where range of distribution is [a, b]. Other words all points are equally distributed among all bins/ sectors with approximately same hight. "
   ]
  },
  {
   "cell_type": "markdown",
   "metadata": {},
   "source": [
    "**Normal** Distribution is a probability distribution which peaks out in the middle and gradually decreases towards both ends of axis.  It is also known as gaussian distribution and bell curve because of its bell like shape[3]. This is more likely most common distribution in real life examples."
   ]
  },
  {
   "cell_type": "markdown",
   "metadata": {},
   "source": [
    "To demonstrate and visualize differences between distributions I will use matplot library in contrast with rand and randn function."
   ]
  },
  {
   "cell_type": "code",
   "execution_count": 7,
   "metadata": {},
   "outputs": [],
   "source": [
    "# Import matplotlib package\n",
    "import matplotlib.pyplot as plt"
   ]
  },
  {
   "cell_type": "markdown",
   "metadata": {},
   "source": [
    "### Uniform distribution"
   ]
  },
  {
   "cell_type": "code",
   "execution_count": 8,
   "metadata": {},
   "outputs": [
    {
     "data": {
      "text/plain": [
       "(array([ 92.,  92., 115.,  98., 111.,  87.,  83., 115.,  97., 110.]),\n",
       " array([0.00167591, 0.10136695, 0.20105799, 0.30074903, 0.40044007,\n",
       "        0.50013111, 0.59982215, 0.69951319, 0.79920423, 0.89889527,\n",
       "        0.99858631]),\n",
       " <a list of 10 Patch objects>)"
      ]
     },
     "execution_count": 8,
     "metadata": {},
     "output_type": "execute_result"
    },
    {
     "data": {
      "image/png": "[encoded data removed]",
      "text/plain": [
       "<Figure size 720x144 with 1 Axes>"
      ]
     },
     "metadata": {
      "needs_background": "light"
     },
     "output_type": "display_data"
    }
   ],
   "source": [
    "# resizing of chart\n",
    "plt.figure(figsize=[10,2])\n",
    "# generate 1000 random numbers between 0 inclusive and 1 exclusive \n",
    "x = np.random.rand(1000)\n",
    "plt.title('Uniform Distribution Histogram')\n",
    "# plot x label\n",
    "plt.ylabel('Frequency')\n",
    "# plot y label\n",
    "plt.xlabel('Value')\n",
    "# plot a histogram\n",
    "plt.hist(x)"
   ]
  },
  {
   "cell_type": "markdown",
   "metadata": {},
   "source": [
    "Output returns 2 arrays where first array displays count of ocurencies from each range and second array with a list of all random numbers. Random numbers are almost equally distributed along full range of numbers between 0 and 1."
   ]
  },
  {
   "cell_type": "markdown",
   "metadata": {},
   "source": [
    "### Normal (Standard) distribution"
   ]
  },
  {
   "cell_type": "code",
   "execution_count": 9,
   "metadata": {},
   "outputs": [
    {
     "data": {
      "text/plain": [
       "(array([  8.,  23.,  60., 170., 240., 243., 169.,  70.,  15.,   2.]),\n",
       " array([-3.29310261, -2.62526288, -1.95742314, -1.28958341, -0.62174368,\n",
       "         0.04609605,  0.71393579,  1.38177552,  2.04961525,  2.71745498,\n",
       "         3.38529472]),\n",
       " <a list of 10 Patch objects>)"
      ]
     },
     "execution_count": 9,
     "metadata": {},
     "output_type": "execute_result"
    },
    {
     "data": {
      "image/png": "[encoded data removed]",
      "text/plain": [
       "<Figure size 720x144 with 1 Axes>"
      ]
     },
     "metadata": {
      "needs_background": "light"
     },
     "output_type": "display_data"
    }
   ],
   "source": [
    "# resizing of chart\n",
    "plt.figure(figsize=[10,2])\n",
    "# generate 1000 random numbers  \n",
    "x = np.random.randn(1000)\n",
    "plt.title('Normal Distribution Histogram using randn function')\n",
    "# plot x label\n",
    "plt.ylabel('Frequency')\n",
    "# plot y label\n",
    "plt.xlabel('Value')\n",
    "# plot a histogram\n",
    "plt.hist(x)"
   ]
  },
  {
   "cell_type": "markdown",
   "metadata": {},
   "source": [
    "Another way of calculating normal distribution calling \"normal\" function."
   ]
  },
  {
   "cell_type": "code",
   "execution_count": 10,
   "metadata": {},
   "outputs": [
    {
     "data": {
      "text/plain": [
       "(array([ 19.,  40.,  95., 142., 207., 216., 159.,  85.,  28.,   9.]),\n",
       " array([ 997.35736277,  997.90298298,  998.44860318,  998.99422339,\n",
       "         999.5398436 , 1000.08546381, 1000.63108401, 1001.17670422,\n",
       "        1001.72232443, 1002.26794464, 1002.81356484]),\n",
       " <a list of 10 Patch objects>)"
      ]
     },
     "execution_count": 10,
     "metadata": {},
     "output_type": "execute_result"
    },
    {
     "data": {
      "image/png": "[encoded data removed]",
      "text/plain": [
       "<Figure size 720x144 with 1 Axes>"
      ]
     },
     "metadata": {
      "needs_background": "light"
     },
     "output_type": "display_data"
    }
   ],
   "source": [
    "# resizing of chart\n",
    "plt.figure(figsize=[10,2])\n",
    "# generate 1000 random numbers with a normal distribution\n",
    "x = np.random.normal(1000,size=1000)\n",
    "plt.title('Normal Distribution Histogram using normal function')\n",
    "# plot x label\n",
    "plt.ylabel('Frequency')\n",
    "# plot y label\n",
    "plt.xlabel('Value')\n",
    "# plot a histogram\n",
    "plt.hist(x)"
   ]
  },
  {
   "cell_type": "markdown",
   "metadata": {},
   "source": [
    "Normal distribution, also known as the Gaussian distribution, is a probability distribution that is symmetric about the mean, showing that data near the mean are more frequent in occurrence than data far from the mean. In graph form, normal distribution will appear as a bell curve."
   ]
  },
  {
   "cell_type": "markdown",
   "metadata": {},
   "source": [
    "### Permutation\n",
    "In mathematics, a permutation of a set is, loosely speaking, an arrangement of its members into a sequence or linear order, or if the set is already ordered, a rearrangement of its elements. The word \"permutation\" also refers to the act or process of changing the linear order of an ordered set[5]. Numpy recognize two types of permutations. "
   ]
  },
  {
   "cell_type": "code",
   "execution_count": 11,
   "metadata": {},
   "outputs": [
    {
     "data": {
      "text/plain": [
       "array([ 0,  1,  2,  3,  4,  5,  6,  7,  8,  9, 10, 11, 12, 13, 14, 15, 16,\n",
       "       17, 18, 19])"
      ]
     },
     "execution_count": 11,
     "metadata": {},
     "output_type": "execute_result"
    }
   ],
   "source": [
    "# arrange return evenly spaced values within a given interval of 20 elements \n",
    "arr = np.arange(20)\n",
    "arr"
   ]
  },
  {
   "cell_type": "markdown",
   "metadata": {},
   "source": [
    "First of the two permutations is a function routine called shuffle. Shuffle is randomly and **pernamently** reordering elements within array."
   ]
  },
  {
   "cell_type": "code",
   "execution_count": 12,
   "metadata": {},
   "outputs": [
    {
     "data": {
      "text/plain": [
       "array([17, 10,  2,  5,  4, 19,  6,  0, 11, 18,  3,  1, 14,  9, 12, 15,  8,\n",
       "        7, 13, 16])"
      ]
     },
     "execution_count": 12,
     "metadata": {},
     "output_type": "execute_result"
    }
   ],
   "source": [
    "# shuffle return reordered array of original 20 elemnents.\n",
    "np.random.shuffle(arr)\n",
    "arr"
   ]
  },
  {
   "cell_type": "markdown",
   "metadata": {},
   "source": [
    "Reshaping original array into two dimensional array."
   ]
  },
  {
   "cell_type": "code",
   "execution_count": 13,
   "metadata": {},
   "outputs": [
    {
     "data": {
      "text/plain": [
       "array([[ 0,  1,  2,  3,  4],\n",
       "       [ 5,  6,  7,  8,  9],\n",
       "       [10, 11, 12, 13, 14],\n",
       "       [15, 16, 17, 18, 19],\n",
       "       [20, 21, 22, 23, 24]])"
      ]
     },
     "execution_count": 13,
     "metadata": {},
     "output_type": "execute_result"
    }
   ],
   "source": [
    "arr = np.arange(25).reshape((5, 5))\n",
    "arr"
   ]
  },
  {
   "cell_type": "markdown",
   "metadata": {},
   "source": [
    "Its interesting to see that when using numpy function shape to craate such a arrangement, shuffle **only** reorders block of elements rather that every single element within two dimensional array."
   ]
  },
  {
   "cell_type": "code",
   "execution_count": 14,
   "metadata": {},
   "outputs": [
    {
     "data": {
      "text/plain": [
       "array([[15, 16, 17, 18, 19],\n",
       "       [20, 21, 22, 23, 24],\n",
       "       [10, 11, 12, 13, 14],\n",
       "       [ 5,  6,  7,  8,  9],\n",
       "       [ 0,  1,  2,  3,  4]])"
      ]
     },
     "execution_count": 14,
     "metadata": {},
     "output_type": "execute_result"
    }
   ],
   "source": [
    "np.random.shuffle(arr)\n",
    "arr"
   ]
  },
  {
   "cell_type": "markdown",
   "metadata": {},
   "source": [
    "Second of Permutation function is Permutation itself. Permutation also works with a **Integers**."
   ]
  },
  {
   "cell_type": "markdown",
   "metadata": {},
   "source": [
    "Below is proof that neither float or char can be used with permutation function."
   ]
  },
  {
   "cell_type": "code",
   "execution_count": 15,
   "metadata": {},
   "outputs": [
    {
     "ename": "IndexError",
     "evalue": "tuple index out of range",
     "output_type": "error",
     "traceback": [
      "\u001b[1;31m---------------------------------------------------------------------------\u001b[0m",
      "\u001b[1;31mIndexError\u001b[0m                                Traceback (most recent call last)",
      "\u001b[1;32m<ipython-input-15-020773628f12>\u001b[0m in \u001b[0;36m<module>\u001b[1;34m\u001b[0m\n\u001b[1;32m----> 1\u001b[1;33m \u001b[0mnp\u001b[0m\u001b[1;33m.\u001b[0m\u001b[0mrandom\u001b[0m\u001b[1;33m.\u001b[0m\u001b[0mpermutation\u001b[0m\u001b[1;33m(\u001b[0m\u001b[1;36m1.7\u001b[0m\u001b[1;33m)\u001b[0m\u001b[1;33m\u001b[0m\u001b[1;33m\u001b[0m\u001b[0m\n\u001b[0m",
      "\u001b[1;32mmtrand.pyx\u001b[0m in \u001b[0;36mmtrand.RandomState.permutation\u001b[1;34m()\u001b[0m\n",
      "\u001b[1;31mIndexError\u001b[0m: tuple index out of range"
     ]
    }
   ],
   "source": [
    "np.random.permutation(1.7)"
   ]
  },
  {
   "cell_type": "markdown",
   "metadata": {},
   "source": [
    "Correct use. Given output for Integer parameter."
   ]
  },
  {
   "cell_type": "code",
   "execution_count": null,
   "metadata": {},
   "outputs": [],
   "source": [
    "arr=np.random.permutation(10)\n",
    "arr"
   ]
  },
  {
   "cell_type": "markdown",
   "metadata": {},
   "source": [
    "Correct use. Given output for array parameter."
   ]
  },
  {
   "cell_type": "code",
   "execution_count": null,
   "metadata": {},
   "outputs": [],
   "source": [
    "arr=np.random.permutation([1,2,3,4,5])\n",
    "arr"
   ]
  },
  {
   "cell_type": "markdown",
   "metadata": {},
   "source": [
    "Once again permutation only rearrange segment of elements but not elements itself."
   ]
  },
  {
   "cell_type": "code",
   "execution_count": null,
   "metadata": {},
   "outputs": [],
   "source": [
    "arr=np.random.permutation( np.arange(9).reshape((3, 3)))\n",
    "arr"
   ]
  },
  {
   "cell_type": "markdown",
   "metadata": {},
   "source": [
    "### Distributions\n",
    "In probability theory and statistics, a probability distribution is the mathematical function that gives the probabilities of occurrence of different possible outcomes for an experiment. It is a mathematical description of a random phenomenon in terms of its sample space and the probabilities of events (subsets of the sample space)[6]. There are many of probability distributions that fits a different purpouses. "
   ]
  },
  {
   "cell_type": "markdown",
   "metadata": {},
   "source": [
    "### Binomial distribution\n",
    "Binomial distribution is representative of the probability, p of a series of 'successes' in a number n of trials in an experiment which can have two possible outcomes ('pass' or 'fail'). The probability density for the binomial distribution calculates as follow:\n",
    "\n",
    "\n"
   ]
  },
  {
   "cell_type": "markdown",
   "metadata": {},
   "source": [
    "![Image of formula to calculate binomial distribution](https://github.com/rastislp/Programming_for_Data_Analysis/blob/main/images/binomial.PNG?raw=true)"
   ]
  },
  {
   "cell_type": "markdown",
   "metadata": {},
   "source": [
    "A three assumptions needs to be fullfiled for experiment to be considered binomial:\n",
    "\n",
    "* The experiment has two possible outcomes \n",
    "* The trials in the experiment are independent\n",
    "* The probability of a success in each trial is constant\n",
    "\n",
    "Real life example of Binomial distribution."
   ]
  },
  {
   "cell_type": "code",
   "execution_count": 23,
   "metadata": {},
   "outputs": [
    {
     "data": {
      "text/plain": [
       "array([3, 7, 4, 6, 4, 5, 6, 5, 4, 5, 5, 5, 5, 2, 6, 3, 6, 6, 7, 4, 5, 6,\n",
       "       4, 5, 5, 8, 6, 4, 7, 4, 2, 5, 4, 8, 7, 6, 7, 4, 5, 8, 3, 7, 6, 5,\n",
       "       1, 5, 7, 5, 7, 8, 6, 7, 8, 3, 7, 6, 6, 5, 7, 6, 6, 6, 6, 6, 4, 5,\n",
       "       6, 5, 5, 4, 7, 3, 7, 4, 3, 5, 5, 4, 3, 5, 5, 4, 4, 3, 7, 1, 4, 3,\n",
       "       5, 5, 8, 2, 8, 4, 3, 7, 6, 8, 3, 3])"
      ]
     },
     "execution_count": 23,
     "metadata": {},
     "output_type": "execute_result"
    }
   ],
   "source": [
    "# number of trials, probability of each trial\n",
    "n, p = 10, .5  \n",
    "s = np.random.binomial(n, p, 100)\n",
    "# result of flipping a coin 10 times, tested 100 times.\n",
    "s"
   ]
  },
  {
   "cell_type": "code",
   "execution_count": 25,
   "metadata": {},
   "outputs": [
    {
     "data": {
      "text/plain": [
       "5.15"
      ]
     },
     "execution_count": 25,
     "metadata": {},
     "output_type": "execute_result"
    }
   ],
   "source": [
    "# As p=0.5 as there are only two possible outcomes of following experiment (head or tail) chances should be nearing 50% for \n",
    "# each of the side. \n",
    "np.mean(s)\n",
    "# Mean represents a expected average value of 100 elements which are representing success of above experiment. "
   ]
  },
  {
   "cell_type": "markdown",
   "metadata": {},
   "source": [
    "Graphical representation of above experiment."
   ]
  },
  {
   "cell_type": "code",
   "execution_count": 55,
   "metadata": {},
   "outputs": [
    {
     "data": {
      "text/plain": [
       "Text(0, 0.5, 'Probability')"
      ]
     },
     "execution_count": 55,
     "metadata": {},
     "output_type": "execute_result"
    },
    {
     "data": {
      "image/png": "[encoded data removed]",
      "text/plain": [
       "<Figure size 432x288 with 1 Axes>"
      ]
     },
     "metadata": {
      "needs_background": "light"
     },
     "output_type": "display_data"
    }
   ],
   "source": [
    "# import seaborn library \n",
    "import seaborn as sns\n",
    "# binomial distribution of 100 tests, p=0.5 and number of trials\n",
    "h = np.random.binomial(10, 0.5, 100) \n",
    "# plot histogram with a kernel density estimate\n",
    "sns.distplot(h, color = 'g', bins=50); \n",
    "plt.title('Binomial Distribution')\n",
    "plt.xlabel('Number of \"Succeses\" out of 10 tials ')\n",
    "plt.ylabel('Probability')"
   ]
  },
  {
   "cell_type": "markdown",
   "metadata": {},
   "source": [
    "Lets say that chances aren't even. What if tail side of coin is cast of heavier material. Chances that coin lands on tail side grows dramatically. Lets say our new p= 0.9 . Therefore chances that we see the Head on the top are 9 out of 10.   "
   ]
  },
  {
   "cell_type": "code",
   "execution_count": 52,
   "metadata": {},
   "outputs": [
    {
     "data": {
      "text/plain": [
       "Text(0, 0.5, 'Probability')"
      ]
     },
     "execution_count": 52,
     "metadata": {},
     "output_type": "execute_result"
    },
    {
     "data": {
      "image/png": "[encoded data removed]",
      "text/plain": [
       "<Figure size 432x288 with 1 Axes>"
      ]
     },
     "metadata": {
      "needs_background": "light"
     },
     "output_type": "display_data"
    }
   ],
   "source": [
    "# import seaborn library \n",
    "import seaborn as sns\n",
    "# binomial distribution of 100 tests, p=0.9 and number of trials\n",
    "h = np.random.binomial(10, 0.9, 100) \n",
    "# plot histogram with a kernel density estimate\n",
    "sns.distplot(h, color = 'g', bins=50); \n",
    "plt.title('Binomial Distribution')\n",
    "plt.xlabel('Number of \"Succeses\" out of 10 tials ')\n",
    "plt.ylabel('Probability')\n"
   ]
  },
  {
   "cell_type": "markdown",
   "metadata": {},
   "source": [
    "Probability of above experiment with fake coin is around 9 out of 10."
   ]
  },
  {
   "cell_type": "code",
   "execution_count": 48,
   "metadata": {},
   "outputs": [
    {
     "data": {
      "text/plain": [
       "9.01"
      ]
     },
     "execution_count": 48,
     "metadata": {},
     "output_type": "execute_result"
    }
   ],
   "source": [
    "np.mean(h)"
   ]
  },
  {
   "cell_type": "markdown",
   "metadata": {},
   "source": [
    "### Exponential distribution"
   ]
  },
  {
   "cell_type": "code",
   "execution_count": null,
   "metadata": {},
   "outputs": [],
   "source": []
  },
  {
   "cell_type": "markdown",
   "metadata": {},
   "source": [
    "### Referencing:"
   ]
  },
  {
   "cell_type": "markdown",
   "metadata": {},
   "source": [
    "[1] Sight, S., 2020. How To Use Numpy Random Normal In Python – R-Craft. [online] R-Craft. Available at: <https://www.r-craft.org/r-news/how-to-use-numpy-random-normal-in-python/> [Accessed 16 November 2020]."
   ]
  },
  {
   "cell_type": "markdown",
   "metadata": {},
   "source": [
    "[2] Numpy.org. 2020. Random Sampling (Numpy.Random) — Numpy V1.19 Manual. [online] Available at: <https://numpy.org/doc/stable/reference/random/index.html> [Accessed 16 November 2020]."
   ]
  },
  {
   "cell_type": "markdown",
   "metadata": {},
   "source": [
    "[3] THAT-A-SCIENCE. 2020. Normal Distribution Vs Uniform Distribution | Numpy | THAT-A-SCIENCE. [online] Available at: <https://thatascience.com/learn-numpy/normal-vs-uniform/#:~:text=Normal%20Distribution%20is%20a%20probability,probability%20of%20x%20is%20constant.&text=Uniform%20Distribution%20is%20a%20probability%20distribution%20where%20probability%20of%20x%20is%20constant.> [Accessed 16 November 2020]."
   ]
  },
  {
   "cell_type": "markdown",
   "metadata": {},
   "source": [
    "[4] En.wikipedia.org. 2020. Normal Distribution. [online] Available at: <https://en.wikipedia.org/wiki/Normal_distribution> [Accessed 16 November 2020]."
   ]
  },
  {
   "cell_type": "markdown",
   "metadata": {},
   "source": [
    "[5] En.wikipedia.org. 2020. Permutation. [online] Available at: <En.wikipedia.org. 2020. Normal Distribution. [online] Available at: <https://en.wikipedia.org/wiki/Normal_distribution> . [Accessed 17 November 2020]."
   ]
  },
  {
   "cell_type": "markdown",
   "metadata": {},
   "source": [
    "[6] En.wikipedia.org. 2020. Probability Distribution. [online] Available at: <https://en.wikipedia.org/wiki/Probability_distribution> [Accessed 17 November 2020]."
   ]
  },
  {
   "cell_type": "code",
   "execution_count": null,
   "metadata": {},
   "outputs": [],
   "source": []
  }
 ],
 "metadata": {
  "kernelspec": {
   "display_name": "Python 3",
   "language": "python",
   "name": "python3"
  },
  "language_info": {
   "codemirror_mode": {
    "name": "ipython",
    "version": 3
   },
   "file_extension": ".py",
   "mimetype": "text/x-python",
   "name": "python",
   "nbconvert_exporter": "python",
   "pygments_lexer": "ipython3",
   "version": "3.7.4"
  }
 },
 "nbformat": 4,
 "nbformat_minor": 2
}
