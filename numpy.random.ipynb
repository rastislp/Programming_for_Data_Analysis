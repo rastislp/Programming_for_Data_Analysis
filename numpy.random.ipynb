{
 "cells": [
  {
   "cell_type": "markdown",
   "metadata": {},
   "source": [
    "# Numpy.Random Assignment\n",
    "\n",
    "Author: Rastislav Petras G00252861"
   ]
  },
  {
   "cell_type": "markdown",
   "metadata": {},
   "source": [
    "----"
   ]
  },
  {
   "cell_type": "markdown",
   "metadata": {},
   "source": [
    "## Briefly about assignment"
   ]
  },
  {
   "cell_type": "markdown",
   "metadata": {},
   "source": [
    "An important part of any simulation is the ability to generate random numbers. For this purpose, NumPy provides various routines in the submodule random. NumPy performs data manipulation on numerical data. It enables to collect numeric data into a data structure, called the NumPy array [1]. Random module implements pseudo-random number generators for various distributions. Scope of this assessment is to asses Numpy v 1.19 specifically  Generator which provides access to a wide range of distributions. Main focus is to test and learn about simple random data , Permutations and Distributions.  Very last part of assessment is to review random generator, particularly seeds.Most of the time I am working with NumPy v1.19 Manual documentation[2].  Lets started."
   ]
  },
  {
   "cell_type": "markdown",
   "metadata": {},
   "source": [
    "----"
   ]
  },
  {
   "cell_type": "markdown",
   "metadata": {},
   "source": [
    "## Hold on. \n",
    "Package, module, routine? Let me explain. Numpy **package** is a library for the Python programming language, adding support for large, multi-dimensional arrays and matrices, along with a **large collection of high-level mathematical functions** to operate on these arrays. **Module** random produce pseudo random numbers that are available in many of types of routines. **Routine** is a specific approach to obtain certain types of random data. "
   ]
  },
  {
   "cell_type": "markdown",
   "metadata": {},
   "source": [
    "Start with a importing Numpy package"
   ]
  },
  {
   "cell_type": "code",
   "execution_count": 1,
   "metadata": {},
   "outputs": [],
   "source": [
    "#Import NumPy package\n",
    "# np becomes prefix of numpy library and it's used each time i call a module function \n",
    "import numpy as np"
   ]
  },
  {
   "cell_type": "markdown",
   "metadata": {},
   "source": [
    "Routine **rand** creates an array of the given shape and populate it with random samples from a uniform distribution over (0,1)."
   ]
  },
  {
   "cell_type": "code",
   "execution_count": 2,
   "metadata": {},
   "outputs": [
    {
     "data": {
      "text/plain": [
       "array([0.27137139, 0.91814856, 0.8417747 , 0.28824806, 0.36325108])"
      ]
     },
     "execution_count": 2,
     "metadata": {},
     "output_type": "execute_result"
    }
   ],
   "source": [
    "# generates random one dimensional array with 5 numbers\n",
    "np.random.rand(5)"
   ]
  },
  {
   "cell_type": "markdown",
   "metadata": {},
   "source": [
    "Multi-dimensional array can be generated simply by extending of number parameters within rand function. numpy.random.rand(d0, d1, ..., dn) "
   ]
  },
  {
   "cell_type": "code",
   "execution_count": 3,
   "metadata": {},
   "outputs": [
    {
     "data": {
      "text/plain": [
       "array([[[0.39399302, 0.46708405, 0.76439534, 0.73873075],\n",
       "        [0.38974249, 0.82284244, 0.10161799, 0.10728258],\n",
       "        [0.54902415, 0.60809949, 0.05883133, 0.99774303]],\n",
       "\n",
       "       [[0.55932372, 0.57764761, 0.55193277, 0.49041917],\n",
       "        [0.99522309, 0.63114985, 0.84219315, 0.02011573],\n",
       "        [0.88789245, 0.3680406 , 0.42904978, 0.55389107]]])"
      ]
     },
     "execution_count": 3,
     "metadata": {},
     "output_type": "execute_result"
    }
   ],
   "source": [
    "# generates random 2 dimensional array with 2 sets of data consisting of 3 rows and 4 columns\n",
    "np.random.rand(2,3,4)"
   ]
  },
  {
   "cell_type": "markdown",
   "metadata": {},
   "source": [
    "**Randit** returns random integers from given range. Lowest number from range if given is included while highest is excluded. Size is defaulted to single output however that could be managed with parameter size.   "
   ]
  },
  {
   "cell_type": "code",
   "execution_count": 4,
   "metadata": {},
   "outputs": [
    {
     "data": {
      "text/plain": [
       "6"
      ]
     },
     "execution_count": 4,
     "metadata": {},
     "output_type": "execute_result"
    }
   ],
   "source": [
    "# single output from range 0 inclusive to 10 exclusive\n",
    "np.random.randint(10)"
   ]
  },
  {
   "cell_type": "code",
   "execution_count": 5,
   "metadata": {},
   "outputs": [
    {
     "data": {
      "text/plain": [
       "5"
      ]
     },
     "execution_count": 5,
     "metadata": {},
     "output_type": "execute_result"
    }
   ],
   "source": [
    "# single output from range 5 inclusive to 10 exclusive\n",
    "np.random.randint(5,10)"
   ]
  },
  {
   "cell_type": "code",
   "execution_count": 6,
   "metadata": {},
   "outputs": [
    {
     "data": {
      "text/plain": [
       "array([8, 7, 7])"
      ]
     },
     "execution_count": 6,
     "metadata": {},
     "output_type": "execute_result"
    }
   ],
   "source": [
    "# multiple output determined by size parameter from range 5 inclusive to 10 exclusive\n",
    "np.random.randint(5,10,size=3)"
   ]
  },
  {
   "cell_type": "markdown",
   "metadata": {},
   "source": [
    "**rand VS randn** or what is difference between uniform and normal distribution"
   ]
  },
  {
   "cell_type": "markdown",
   "metadata": {},
   "source": [
    "![Image of normal vs uniform distribution](https://github.com/rastislp/Programming_for_Data_Analysis/blob/main/images/normalVSuniform.PNG?raw=true)"
   ]
  },
  {
   "cell_type": "markdown",
   "metadata": {},
   "source": [
    "**Uniform** Distribution is a probability distribution where probability of x is constant. That is to say, all points in range are equally likely to occur consequently it looks like a rectangle. Formula for Uniform probability distribution is f(x) = 1/(b-a), where range of distribution is [a, b]. Other words all points are equally distributed among all bins/ sectors with approximately same hight. "
   ]
  },
  {
   "cell_type": "markdown",
   "metadata": {},
   "source": [
    "**Normal** Distribution is a probability distribution which peaks out in the middle and gradually decreases towards both ends of axis.  It is also known as gaussian distribution and bell curve because of its bell like shape[3]. This is more likely most common distribution in real life examples."
   ]
  },
  {
   "cell_type": "markdown",
   "metadata": {},
   "source": [
    "To demonstrate and visualize differences between distributions I will use matplot library in contrast with rand and randn function."
   ]
  },
  {
   "cell_type": "code",
   "execution_count": 7,
   "metadata": {},
   "outputs": [],
   "source": [
    "# Import matplotlib package\n",
    "import matplotlib.pyplot as plt"
   ]
  },
  {
   "cell_type": "markdown",
   "metadata": {},
   "source": [
    "### Uniform distribution"
   ]
  },
  {
   "cell_type": "code",
   "execution_count": 8,
   "metadata": {},
   "outputs": [
    {
     "data": {
      "text/plain": [
       "(array([105., 104.,  89.,  89., 101., 111.,  98.,  95., 100., 108.]),\n",
       " array([0.00112391, 0.10098052, 0.20083713, 0.30069374, 0.40055035,\n",
       "        0.50040696, 0.60026357, 0.70012018, 0.79997679, 0.8998334 ,\n",
       "        0.99969001]),\n",
       " <a list of 10 Patch objects>)"
      ]
     },
     "execution_count": 8,
     "metadata": {},
     "output_type": "execute_result"
    },
    {
     "data": {
      "image/png": "[encoded data removed]",
      "text/plain": [
       "<Figure size 720x144 with 1 Axes>"
      ]
     },
     "metadata": {
      "needs_background": "light"
     },
     "output_type": "display_data"
    }
   ],
   "source": [
    "# resizing of chart\n",
    "plt.figure(figsize=[10,2])\n",
    "# generate 1000 random numbers between 0 inclusive and 1 exclusive \n",
    "x = np.random.rand(1000)\n",
    "plt.title('Uniform Distribution Histogram')\n",
    "# plot x label\n",
    "plt.ylabel('Frequency')\n",
    "# plot y label\n",
    "plt.xlabel('Value')\n",
    "# plot a histogram\n",
    "plt.hist(x)"
   ]
  },
  {
   "cell_type": "markdown",
   "metadata": {},
   "source": [
    "Output returns 2 arrays where first array displays count of ocurencies from each range and second array with a list of all random numbers. Random numbers are almost equally distributed along full range of numbers between 0 and 1."
   ]
  },
  {
   "cell_type": "markdown",
   "metadata": {},
   "source": [
    "### Normal (Standard) distribution"
   ]
  },
  {
   "cell_type": "code",
   "execution_count": 9,
   "metadata": {},
   "outputs": [
    {
     "data": {
      "text/plain": [
       "(array([  6.,  27.,  95., 178., 213., 235., 152.,  64.,  24.,   6.]),\n",
       " array([-3.03763681, -2.41519355, -1.79275029, -1.17030703, -0.54786377,\n",
       "         0.07457949,  0.69702275,  1.31946601,  1.94190927,  2.56435253,\n",
       "         3.18679579]),\n",
       " <a list of 10 Patch objects>)"
      ]
     },
     "execution_count": 9,
     "metadata": {},
     "output_type": "execute_result"
    },
    {
     "data": {
      "image/png": "[encoded data removed]",
      "text/plain": [
       "<Figure size 720x144 with 1 Axes>"
      ]
     },
     "metadata": {
      "needs_background": "light"
     },
     "output_type": "display_data"
    }
   ],
   "source": [
    "# resizing of chart\n",
    "plt.figure(figsize=[10,2])\n",
    "# generate 1000 random numbers  \n",
    "x = np.random.randn(1000)\n",
    "plt.title('Normal Distribution Histogram using randn function')\n",
    "# plot x label\n",
    "plt.ylabel('Frequency')\n",
    "# plot y label\n",
    "plt.xlabel('Value')\n",
    "# plot a histogram\n",
    "plt.hist(x)"
   ]
  },
  {
   "cell_type": "markdown",
   "metadata": {},
   "source": [
    "Another way of calculating normal distribution calling \"normal\" function."
   ]
  },
  {
   "cell_type": "code",
   "execution_count": 10,
   "metadata": {},
   "outputs": [
    {
     "data": {
      "text/plain": [
       "(array([  8.,  51., 121., 235., 271., 197.,  82.,  25.,   9.,   1.]),\n",
       " array([ 997.01598647,  997.70974517,  998.40350388,  999.09726258,\n",
       "         999.79102129, 1000.48478   , 1001.1785387 , 1001.87229741,\n",
       "        1002.56605611, 1003.25981482, 1003.95357352]),\n",
       " <a list of 10 Patch objects>)"
      ]
     },
     "execution_count": 10,
     "metadata": {},
     "output_type": "execute_result"
    },
    {
     "data": {
      "image/png": "[encoded data removed]",
      "text/plain": [
       "<Figure size 720x144 with 1 Axes>"
      ]
     },
     "metadata": {
      "needs_background": "light"
     },
     "output_type": "display_data"
    }
   ],
   "source": [
    "# resizing of chart\n",
    "plt.figure(figsize=[10,2])\n",
    "# generate 1000 random numbers with a normal distribution\n",
    "x = np.random.normal(1000,size=1000)\n",
    "plt.title('Normal Distribution Histogram using normal function')\n",
    "# plot x label\n",
    "plt.ylabel('Frequency')\n",
    "# plot y label\n",
    "plt.xlabel('Value')\n",
    "# plot a histogram\n",
    "plt.hist(x)"
   ]
  },
  {
   "cell_type": "markdown",
   "metadata": {},
   "source": [
    "Normal distribution, also known as the Gaussian distribution, is a probability distribution that is symmetric about the mean, showing that data near the mean are more frequent in occurrence than data far from the mean. In graph form, normal distribution will appear as a bell curve."
   ]
  },
  {
   "cell_type": "markdown",
   "metadata": {},
   "source": [
    "### Permutation\n",
    "In mathematics, a permutation of a set is, loosely speaking, an arrangement of its members into a sequence or linear order, or if the set is already ordered, a rearrangement of its elements. The word \"permutation\" also refers to the act or process of changing the linear order of an ordered set[5]. Numpy recognize two types of permutations. "
   ]
  },
  {
   "cell_type": "code",
   "execution_count": 11,
   "metadata": {},
   "outputs": [
    {
     "data": {
      "text/plain": [
       "array([ 0,  1,  2,  3,  4,  5,  6,  7,  8,  9, 10, 11, 12, 13, 14, 15, 16,\n",
       "       17, 18, 19])"
      ]
     },
     "execution_count": 11,
     "metadata": {},
     "output_type": "execute_result"
    }
   ],
   "source": [
    "# arrange return evenly spaced values within a given interval of 20 elements \n",
    "arr = np.arange(20)\n",
    "arr"
   ]
  },
  {
   "cell_type": "markdown",
   "metadata": {},
   "source": [
    "First of the two permutations is a function routine called shuffle. Shuffle is randomly and **pernamently** reordering elements within array."
   ]
  },
  {
   "cell_type": "code",
   "execution_count": 12,
   "metadata": {},
   "outputs": [
    {
     "data": {
      "text/plain": [
       "array([ 1, 15,  3, 18,  6,  9, 10, 14,  0, 19,  7,  2,  5, 12,  4, 11, 17,\n",
       "        8, 16, 13])"
      ]
     },
     "execution_count": 12,
     "metadata": {},
     "output_type": "execute_result"
    }
   ],
   "source": [
    "# shuffle return reordered array of original 20 elemnents.\n",
    "np.random.shuffle(arr)\n",
    "arr"
   ]
  },
  {
   "cell_type": "markdown",
   "metadata": {},
   "source": [
    "Reshaping original array into two dimensional array."
   ]
  },
  {
   "cell_type": "code",
   "execution_count": 13,
   "metadata": {},
   "outputs": [
    {
     "data": {
      "text/plain": [
       "array([[ 0,  1,  2,  3,  4],\n",
       "       [ 5,  6,  7,  8,  9],\n",
       "       [10, 11, 12, 13, 14],\n",
       "       [15, 16, 17, 18, 19],\n",
       "       [20, 21, 22, 23, 24]])"
      ]
     },
     "execution_count": 13,
     "metadata": {},
     "output_type": "execute_result"
    }
   ],
   "source": [
    "arr = np.arange(25).reshape((5, 5))\n",
    "arr"
   ]
  },
  {
   "cell_type": "markdown",
   "metadata": {},
   "source": [
    "Its interesting to see that when using numpy function shape to craate such a arrangement, shuffle **only** reorders block of elements rather that every single element within two dimensional array."
   ]
  },
  {
   "cell_type": "code",
   "execution_count": 14,
   "metadata": {},
   "outputs": [
    {
     "data": {
      "text/plain": [
       "array([[ 5,  6,  7,  8,  9],\n",
       "       [20, 21, 22, 23, 24],\n",
       "       [15, 16, 17, 18, 19],\n",
       "       [ 0,  1,  2,  3,  4],\n",
       "       [10, 11, 12, 13, 14]])"
      ]
     },
     "execution_count": 14,
     "metadata": {},
     "output_type": "execute_result"
    }
   ],
   "source": [
    "np.random.shuffle(arr)\n",
    "arr"
   ]
  },
  {
   "cell_type": "markdown",
   "metadata": {},
   "source": [
    "Second of Permutation function is Permutation itself. Permutation also works with a **Integers**."
   ]
  },
  {
   "cell_type": "markdown",
   "metadata": {},
   "source": [
    "Below is proof that neither float or char can be used with permutation function."
   ]
  },
  {
   "cell_type": "code",
   "execution_count": 15,
   "metadata": {},
   "outputs": [],
   "source": [
    "# np.random.permutation(1.7)\n",
    "# np.random.permutation(\"abc\")"
   ]
  },
  {
   "cell_type": "markdown",
   "metadata": {},
   "source": [
    "Correct use. Given output for Integer parameter."
   ]
  },
  {
   "cell_type": "code",
   "execution_count": 16,
   "metadata": {},
   "outputs": [
    {
     "data": {
      "text/plain": [
       "array([1, 2, 8, 5, 9, 7, 4, 0, 3, 6])"
      ]
     },
     "execution_count": 16,
     "metadata": {},
     "output_type": "execute_result"
    }
   ],
   "source": [
    "arr=np.random.permutation(10)\n",
    "arr"
   ]
  },
  {
   "cell_type": "markdown",
   "metadata": {},
   "source": [
    "Correct use. Given output for array parameter."
   ]
  },
  {
   "cell_type": "code",
   "execution_count": 17,
   "metadata": {},
   "outputs": [
    {
     "data": {
      "text/plain": [
       "array([5, 2, 4, 3, 1])"
      ]
     },
     "execution_count": 17,
     "metadata": {},
     "output_type": "execute_result"
    }
   ],
   "source": [
    "arr=np.random.permutation([1,2,3,4,5])\n",
    "arr"
   ]
  },
  {
   "cell_type": "markdown",
   "metadata": {},
   "source": [
    "Once again permutation only rearrange segment of elements but not elements itself."
   ]
  },
  {
   "cell_type": "code",
   "execution_count": 18,
   "metadata": {},
   "outputs": [
    {
     "data": {
      "text/plain": [
       "array([[3, 4, 5],\n",
       "       [0, 1, 2],\n",
       "       [6, 7, 8]])"
      ]
     },
     "execution_count": 18,
     "metadata": {},
     "output_type": "execute_result"
    }
   ],
   "source": [
    "arr=np.random.permutation( np.arange(9).reshape((3, 3)))\n",
    "arr"
   ]
  },
  {
   "cell_type": "markdown",
   "metadata": {},
   "source": [
    "### Distributions\n",
    "In probability theory and statistics, a probability distribution is the mathematical function that gives the probabilities of occurrence of different possible outcomes for an experiment. It is a mathematical description of a random phenomenon in terms of its sample space and the probabilities of events (subsets of the sample space)[6]. There are many of probability distributions that fits a different purpouses. "
   ]
  },
  {
   "cell_type": "markdown",
   "metadata": {},
   "source": [
    "### Binomial distribution\n",
    "Binomial distribution is representative of the probability, p of a series of 'successes' in a number n of trials in an experiment which can have two possible outcomes ('pass' or 'fail'). The probability density for the binomial distribution calculates as follow:\n",
    "\n",
    "\n"
   ]
  },
  {
   "cell_type": "markdown",
   "metadata": {},
   "source": [
    "![Image of formula to calculate binomial distribution](https://github.com/rastislp/Programming_for_Data_Analysis/blob/main/images/binomial.PNG?raw=true)"
   ]
  },
  {
   "cell_type": "markdown",
   "metadata": {},
   "source": [
    "A three assumptions needs to be fullfiled for experiment to be considered binomial:\n",
    "\n",
    "* The experiment has two possible outcomes \n",
    "* The trials in the experiment are independent\n",
    "* The probability of a success in each trial is constant\n",
    "\n",
    "Real life example of Binomial distribution."
   ]
  },
  {
   "cell_type": "code",
   "execution_count": 19,
   "metadata": {},
   "outputs": [
    {
     "data": {
      "text/plain": [
       "array([6, 3, 4, 4, 7, 4, 5, 6, 5, 3, 4, 7, 7, 4, 5, 8, 2, 7, 4, 5, 3, 4,\n",
       "       6, 7, 3, 6, 4, 7, 6, 6, 5, 4, 6, 6, 3, 6, 6, 5, 4, 4, 6, 6, 6, 5,\n",
       "       3, 7, 5, 3, 6, 5, 4, 4, 4, 6, 4, 6, 6, 6, 5, 6, 5, 4, 6, 6, 4, 6,\n",
       "       4, 6, 5, 6, 5, 6, 7, 5, 6, 6, 8, 5, 6, 2, 7, 4, 4, 8, 7, 3, 4, 7,\n",
       "       5, 7, 4, 8, 6, 7, 5, 2, 7, 3, 5, 4])"
      ]
     },
     "execution_count": 19,
     "metadata": {},
     "output_type": "execute_result"
    }
   ],
   "source": [
    "# number of trials, probability of each trial\n",
    "n, p = 10, .5  \n",
    "s = np.random.binomial(n, p, 100)\n",
    "# result of flipping a coin 10 times, tested 100 times.\n",
    "s"
   ]
  },
  {
   "cell_type": "code",
   "execution_count": 20,
   "metadata": {},
   "outputs": [
    {
     "data": {
      "text/plain": [
       "5.19"
      ]
     },
     "execution_count": 20,
     "metadata": {},
     "output_type": "execute_result"
    }
   ],
   "source": [
    "# As p=0.5 as there are only two possible outcomes of following experiment (head or tail) chances should be nearing 50% for \n",
    "# each of the side. \n",
    "np.mean(s)\n",
    "# Mean represents a expected average value of 100 elements which are representing success of above experiment. "
   ]
  },
  {
   "cell_type": "markdown",
   "metadata": {},
   "source": [
    "Graphical representation of above experiment."
   ]
  },
  {
   "cell_type": "code",
   "execution_count": 21,
   "metadata": {},
   "outputs": [
    {
     "data": {
      "text/plain": [
       "Text(0, 0.5, 'Probability')"
      ]
     },
     "execution_count": 21,
     "metadata": {},
     "output_type": "execute_result"
    },
    {
     "data": {
      "image/png": "[encoded data removed]",
      "text/plain": [
       "<Figure size 432x288 with 1 Axes>"
      ]
     },
     "metadata": {
      "needs_background": "light"
     },
     "output_type": "display_data"
    }
   ],
   "source": [
    "# import seaborn library \n",
    "import seaborn as sns\n",
    "# binomial distribution of 100 tests, p=0.5 and number of trials\n",
    "h = np.random.binomial(10, 0.5, 100) \n",
    "# plot histogram with a kernel density estimate\n",
    "sns.distplot(h, color = 'g', bins=50); \n",
    "plt.title('Binomial Distribution')\n",
    "plt.xlabel('Number of \"Succeses\" out of 10 tials ')\n",
    "plt.ylabel('Probability')"
   ]
  },
  {
   "cell_type": "markdown",
   "metadata": {},
   "source": [
    "Lets say that chances aren't even. What if tail side of coin is cast of heavier material. Chances that coin lands on tail side grows dramatically. Lets say our new p= 0.9 . Therefore chances that we see the Head on the top are 9 out of 10.   "
   ]
  },
  {
   "cell_type": "code",
   "execution_count": 22,
   "metadata": {},
   "outputs": [
    {
     "data": {
      "text/plain": [
       "Text(0, 0.5, 'Probability')"
      ]
     },
     "execution_count": 22,
     "metadata": {},
     "output_type": "execute_result"
    },
    {
     "data": {
      "image/png": "[encoded data removed]",
      "text/plain": [
       "<Figure size 432x288 with 1 Axes>"
      ]
     },
     "metadata": {
      "needs_background": "light"
     },
     "output_type": "display_data"
    }
   ],
   "source": [
    "# import seaborn library \n",
    "import seaborn as sns\n",
    "# binomial distribution of 100 tests, p=0.9 and number of trials\n",
    "h = np.random.binomial(10, 0.9, 100) \n",
    "# plot histogram with a kernel density estimate\n",
    "sns.distplot(h, color = 'g', bins=50); \n",
    "plt.title('Binomial Distribution')\n",
    "plt.xlabel('Number of \"Succeses\" out of 10 tials ')\n",
    "plt.ylabel('Probability')\n"
   ]
  },
  {
   "cell_type": "markdown",
   "metadata": {},
   "source": [
    "Probability of above experiment with fake coin is around 9 out of 10."
   ]
  },
  {
   "cell_type": "code",
   "execution_count": 23,
   "metadata": {},
   "outputs": [
    {
     "data": {
      "text/plain": [
       "8.93"
      ]
     },
     "execution_count": 23,
     "metadata": {},
     "output_type": "execute_result"
    }
   ],
   "source": [
    "np.mean(h)"
   ]
  },
  {
   "cell_type": "markdown",
   "metadata": {},
   "source": [
    "### Exponential distribution"
   ]
  },
  {
   "cell_type": "markdown",
   "metadata": {},
   "source": [
    "The exponential distribution is often concerned with the amount of time until some specific event occurs.The exponential distribution is widely used in the field of reliability. Reliability deals with the amount of time a product lasts.[7]\n",
    "\n",
    "With the help of numpy.random.exponential() method, we can get the random samples from exponential distribution and returns the numpy array of random samples by using this method."
   ]
  },
  {
   "cell_type": "markdown",
   "metadata": {},
   "source": [
    "![Image of formula to calculate binomial distribution](https://github.com/rastislp/Programming_for_Data_Analysis/blob/main/images/exp.PNG?raw=true) "
   ]
  },
  {
   "cell_type": "markdown",
   "metadata": {},
   "source": [
    "A three assumptions needs to be fullfiled for experiment to be considered\n",
    "\n",
    "* This variable has been occurring at some fixed rate over a period of time;\n",
    "* The chance of the event occurring past has had no effect on it occurring again, and;\n",
    "* The event never occurs more than once per interval."
   ]
  },
  {
   "cell_type": "markdown",
   "metadata": {},
   "source": [
    "Exponential distribution is used for describing time till next event e.g. failure/success etc.\n",
    "\n",
    "It has two parameters:\n",
    "\n",
    "* scale - inverse of rate ( see lam in poisson distribution ) defaults to 1.0.\n",
    "\n",
    "* size - The shape of the returned array."
   ]
  },
  {
   "cell_type": "code",
   "execution_count": 35,
   "metadata": {},
   "outputs": [
    {
     "data": {
      "text/plain": [
       "array([2.91290495e-02, 9.39328307e-01, 7.69956624e-01, 1.57285596e+00,\n",
       "       5.50652935e-01, 5.17747669e-01, 5.75040991e-02, 3.37858146e-01,\n",
       "       3.93502778e-01, 8.38314403e-01, 1.46926845e-01, 2.25769057e+00,\n",
       "       7.58147241e-02, 4.67511652e-01, 3.14492595e-01, 3.43276817e-01,\n",
       "       1.65554079e-01, 1.88251145e-01, 6.51685207e-01, 1.52100753e-01,\n",
       "       1.42483373e+00, 4.65848567e-01, 1.18795968e+00, 2.15346335e+00,\n",
       "       2.07163479e-01, 3.02454498e+00, 1.05853287e+00, 1.12564856e+00,\n",
       "       3.23001867e-01, 5.33032528e-01, 4.77442908e-01, 4.82216385e-03,\n",
       "       3.96666751e+00, 1.09360045e-02, 4.00839538e-01, 1.45189854e+00,\n",
       "       7.97021171e-01, 6.45605207e-01, 9.58593303e-01, 3.22557760e-01,\n",
       "       2.79359396e+00, 4.37206418e-02, 1.62393288e+00, 2.96972454e-01,\n",
       "       1.44733335e+00, 8.86754743e-02, 5.33546075e+00, 9.11082018e-01,\n",
       "       1.18936119e+00, 5.22342274e-01, 1.34895012e+00, 2.65777421e-01,\n",
       "       1.03165768e-01, 2.23685552e-01, 2.34216670e-01, 1.35316359e+00,\n",
       "       2.44122088e-01, 6.08911906e-01, 1.00165075e+00, 8.81416246e-01,\n",
       "       3.11004355e-01, 9.95584953e-01, 1.21541166e+00, 1.74095131e+00,\n",
       "       7.46701466e-02, 1.43777937e+00, 8.23961862e-02, 1.23433640e+00,\n",
       "       3.23266841e+00, 1.05659386e+00, 1.81027128e+00, 7.92578954e-01,\n",
       "       2.47029951e+00, 3.01723324e-01, 1.18853523e+00, 5.09812057e-02,\n",
       "       7.70132051e-02, 1.36046134e-01, 3.02865606e-01, 1.20614311e+00,\n",
       "       2.25741102e+00, 4.58957086e-01, 1.31203776e+00, 9.45013762e-01,\n",
       "       3.50604173e-01, 7.29297804e-02, 5.24307872e-02, 9.69422845e-01,\n",
       "       1.56761511e+00, 2.47569184e+00, 4.70603245e-03, 6.45992001e-01,\n",
       "       6.82909025e-01, 2.44881747e-01, 1.23398388e+00, 9.57734332e-01,\n",
       "       3.60550150e+00, 1.78036007e-01, 2.83198016e-01, 1.00015892e+00])"
      ]
     },
     "execution_count": 35,
     "metadata": {},
     "output_type": "execute_result"
    }
   ],
   "source": [
    "Q = np.random.exponential(1,size=100)\n",
    "Q"
   ]
  },
  {
   "cell_type": "code",
   "execution_count": 36,
   "metadata": {},
   "outputs": [
    {
     "data": {
      "text/plain": [
       "Text(0, 0.5, 'f(x)')"
      ]
     },
     "execution_count": 36,
     "metadata": {},
     "output_type": "execute_result"
    },
    {
     "data": {
      "image/png": "[encoded data removed]",
      "text/plain": [
       "<Figure size 432x288 with 1 Axes>"
      ]
     },
     "metadata": {
      "needs_background": "light"
     },
     "output_type": "display_data"
    }
   ],
   "source": [
    "Q = np.random.exponential(0.1,size=10000)\n",
    "P = np.random.exponential(0.6,size=10000)\n",
    "# plot histogram with a kernel density estimate\n",
    "ax = sns.distplot(Q, color = 'g',) \n",
    "ax = sns.distplot(P, color = 'g',)\n",
    "plt.title('Exponential Distribution')\n",
    "plt.xlabel('x variables')\n",
    "plt.ylabel('f(x)')"
   ]
  },
  {
   "cell_type": "code",
   "execution_count": null,
   "metadata": {},
   "outputs": [],
   "source": []
  },
  {
   "cell_type": "code",
   "execution_count": null,
   "metadata": {},
   "outputs": [],
   "source": []
  },
  {
   "cell_type": "markdown",
   "metadata": {},
   "source": [
    "### Referencing:"
   ]
  },
  {
   "cell_type": "markdown",
   "metadata": {},
   "source": [
    "[1] Sight, S., 2020. How To Use Numpy Random Normal In Python – R-Craft. [online] R-Craft. Available at: <https://www.r-craft.org/r-news/how-to-use-numpy-random-normal-in-python/> [Accessed 16 November 2020]."
   ]
  },
  {
   "cell_type": "markdown",
   "metadata": {},
   "source": [
    "[2] Numpy.org. 2020. Random Sampling (Numpy.Random) — Numpy V1.19 Manual. [online] Available at: <https://numpy.org/doc/stable/reference/random/index.html> [Accessed 16 November 2020]."
   ]
  },
  {
   "cell_type": "markdown",
   "metadata": {},
   "source": [
    "[3] THAT-A-SCIENCE. 2020. Normal Distribution Vs Uniform Distribution | Numpy | THAT-A-SCIENCE. [online] Available at: <https://thatascience.com/learn-numpy/normal-vs-uniform/#:~:text=Normal%20Distribution%20is%20a%20probability,probability%20of%20x%20is%20constant.&text=Uniform%20Distribution%20is%20a%20probability%20distribution%20where%20probability%20of%20x%20is%20constant.> [Accessed 16 November 2020]."
   ]
  },
  {
   "cell_type": "markdown",
   "metadata": {},
   "source": [
    "[4] En.wikipedia.org. 2020. Normal Distribution. [online] Available at: <https://en.wikipedia.org/wiki/Normal_distribution> [Accessed 16 November 2020]."
   ]
  },
  {
   "cell_type": "markdown",
   "metadata": {},
   "source": [
    "[5] En.wikipedia.org. 2020. Permutation. [online] Available at: <En.wikipedia.org. 2020. Normal Distribution. [online] Available at: <https://en.wikipedia.org/wiki/Normal_distribution> . [Accessed 17 November 2020]."
   ]
  },
  {
   "cell_type": "markdown",
   "metadata": {},
   "source": [
    "[6] En.wikipedia.org. 2020. Probability Distribution. [online] Available at: <https://en.wikipedia.org/wiki/Probability_distribution> [Accessed 17 November 2020]."
   ]
  },
  {
   "cell_type": "markdown",
   "metadata": {},
   "source": [
    "[7] Courses.lumenlearning.com. 2020. The Exponential Distribution | Introduction To Statistics. [online] Available at: <https://courses.lumenlearning.com/introstats1/chapter/the-exponential-distribution/> [Accessed 17 November 2020]."
   ]
  },
  {
   "cell_type": "code",
   "execution_count": null,
   "metadata": {},
   "outputs": [],
   "source": []
  }
 ],
 "metadata": {
  "kernelspec": {
   "display_name": "Python 3",
   "language": "python",
   "name": "python3"
  },
  "language_info": {
   "codemirror_mode": {
    "name": "ipython",
    "version": 3
   },
   "file_extension": ".py",
   "mimetype": "text/x-python",
   "name": "python",
   "nbconvert_exporter": "python",
   "pygments_lexer": "ipython3",
   "version": "3.7.4"
  }
 },
 "nbformat": 4,
 "nbformat_minor": 2
}
