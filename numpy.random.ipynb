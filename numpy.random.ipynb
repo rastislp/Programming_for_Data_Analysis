{
 "cells": [
  {
   "cell_type": "markdown",
   "metadata": {},
   "source": [
    "# Numpy.Random Assignment\n",
    "\n",
    "Author: Rastislav Petras G00252861"
   ]
  },
  {
   "cell_type": "markdown",
   "metadata": {},
   "source": [
    "----"
   ]
  },
  {
   "cell_type": "markdown",
   "metadata": {},
   "source": [
    "## Briefly about assignment"
   ]
  },
  {
   "cell_type": "markdown",
   "metadata": {},
   "source": [
    "An important part of any simulation is the ability to generate random numbers. For this purpose, NumPy provides various routines in the submodule random. NumPy performs data manipulation on numerical data. It enables to collect numeric data into a data structure, called the NumPy array [1]. Random module implements pseudo-random number generators for various distributions. Scope of this assessment is to asses Numpy v 1.19 specifically  Generator which provides access to a wide range of distributions. Main focus is to test and learn about simple random data , Permutations and Distributions.  Very last part of assessment is to review random generator, particularly seeds.Most of the time I am working with NumPy v1.19 Manual documentation[2].  Lets started."
   ]
  },
  {
   "cell_type": "markdown",
   "metadata": {},
   "source": [
    "----"
   ]
  },
  {
   "cell_type": "markdown",
   "metadata": {},
   "source": [
    "## Hold on. \n",
    "Package, module, routine? Let me explain. Numpy **package** is a library for the Python programming language, adding support for large, multi-dimensional arrays and matrices, along with a **large collection of high-level mathematical functions** to operate on these arrays. **Module** random produce pseudo random numbers that are available in many of types of routines. **Routine** is a specific approach to obtain certain types of random data. "
   ]
  },
  {
   "cell_type": "markdown",
   "metadata": {},
   "source": [
    "Start with a importing Numpy package"
   ]
  },
  {
   "cell_type": "code",
   "execution_count": 1,
   "metadata": {},
   "outputs": [],
   "source": [
    "#Import NumPy package\n",
    "# np becomes prefix of numpy library and it's used each time i call a module function \n",
    "import numpy as np"
   ]
  },
  {
   "cell_type": "markdown",
   "metadata": {},
   "source": [
    "Routine **rand** creates an array of the given shape and populate it with random samples from a uniform distribution over (0,1)."
   ]
  },
  {
   "cell_type": "code",
   "execution_count": 2,
   "metadata": {},
   "outputs": [
    {
     "data": {
      "text/plain": [
       "array([0.22525476, 0.95799724, 0.70711674, 0.30173934, 0.23754934])"
      ]
     },
     "execution_count": 2,
     "metadata": {},
     "output_type": "execute_result"
    }
   ],
   "source": [
    "# generates random one dimensional array with 5 numbers\n",
    "np.random.rand(5)"
   ]
  },
  {
   "cell_type": "markdown",
   "metadata": {},
   "source": [
    "Multi-dimensional array can be generated simply by extending of number parameters within rand function. numpy.random.rand(d0, d1, ..., dn) "
   ]
  },
  {
   "cell_type": "code",
   "execution_count": 3,
   "metadata": {},
   "outputs": [
    {
     "data": {
      "text/plain": [
       "array([[[1.14236160e-02, 6.07801029e-01, 4.19699297e-02, 2.34161781e-01],\n",
       "        [1.36636266e-01, 6.83573067e-01, 2.49695990e-01, 7.94423471e-04],\n",
       "        [7.04432706e-01, 9.90389583e-01, 3.64405711e-02, 3.34596506e-03]],\n",
       "\n",
       "       [[5.69261308e-01, 2.83061060e-02, 6.97507500e-01, 2.11771865e-01],\n",
       "        [9.57950175e-01, 4.47386401e-01, 9.76364512e-01, 9.96861638e-01],\n",
       "        [7.94013144e-01, 1.86738979e-01, 8.81881346e-01, 4.22846374e-01]]])"
      ]
     },
     "execution_count": 3,
     "metadata": {},
     "output_type": "execute_result"
    }
   ],
   "source": [
    "# generates random 2 dimensional array with 2 sets of data consisting of 3 rows and 4 columns\n",
    "np.random.rand(2,3,4)"
   ]
  },
  {
   "cell_type": "markdown",
   "metadata": {},
   "source": [
    "**Randit** returns random integers from given range. Lowest number from range if given is included while highest is excluded. Size is defaulted to single output however that could be managed with parameter size.   "
   ]
  },
  {
   "cell_type": "code",
   "execution_count": 4,
   "metadata": {},
   "outputs": [
    {
     "data": {
      "text/plain": [
       "7"
      ]
     },
     "execution_count": 4,
     "metadata": {},
     "output_type": "execute_result"
    }
   ],
   "source": [
    "# single output from range 0 inclusive to 10 exclusive\n",
    "np.random.randint(10)"
   ]
  },
  {
   "cell_type": "code",
   "execution_count": 5,
   "metadata": {},
   "outputs": [
    {
     "data": {
      "text/plain": [
       "6"
      ]
     },
     "execution_count": 5,
     "metadata": {},
     "output_type": "execute_result"
    }
   ],
   "source": [
    "# single output from range 5 inclusive to 10 exclusive\n",
    "np.random.randint(5,10)"
   ]
  },
  {
   "cell_type": "code",
   "execution_count": 6,
   "metadata": {},
   "outputs": [
    {
     "data": {
      "text/plain": [
       "array([7, 8, 5])"
      ]
     },
     "execution_count": 6,
     "metadata": {},
     "output_type": "execute_result"
    }
   ],
   "source": [
    "# multiple output determined by size parameter from range 5 inclusive to 10 exclusive\n",
    "np.random.randint(5,10,size=3)"
   ]
  },
  {
   "cell_type": "markdown",
   "metadata": {},
   "source": [
    "**rand VS randn** or what is difference between uniform and normal distribution"
   ]
  },
  {
   "cell_type": "markdown",
   "metadata": {},
   "source": [
    "![Image of normal vs uniform distribution](https://github.com/rastislp/Programming_for_Data_Analysis/blob/main/images/normalVSuniform.PNG?raw=true)"
   ]
  },
  {
   "cell_type": "markdown",
   "metadata": {},
   "source": [
    "**Uniform** Distribution is a probability distribution where probability of x is constant. That is to say, all points in range are equally likely to occur consequently it looks like a rectangle. Formula for Uniform probability distribution is f(x) = 1/(b-a), where range of distribution is [a, b]. Other words all points are equally distributed among all bins/ sectors with approximately same hight. "
   ]
  },
  {
   "cell_type": "markdown",
   "metadata": {},
   "source": [
    "**Normal** Distribution is a probability distribution which peaks out in the middle and gradually decreases towards both ends of axis.  It is also known as gaussian distribution and bell curve because of its bell like shape[3]. This is more likely most common distribution in real life examples."
   ]
  },
  {
   "cell_type": "markdown",
   "metadata": {},
   "source": [
    "To demonstrate and visualize differences between distributions I will use matplot library in contrast with rand and randn function."
   ]
  },
  {
   "cell_type": "code",
   "execution_count": 7,
   "metadata": {},
   "outputs": [],
   "source": [
    "# Import matplotlib package\n",
    "import matplotlib.pyplot as plt"
   ]
  },
  {
   "cell_type": "markdown",
   "metadata": {},
   "source": [
    "### Uniform distribution"
   ]
  },
  {
   "cell_type": "code",
   "execution_count": 8,
   "metadata": {},
   "outputs": [
    {
     "data": {
      "text/plain": [
       "(array([107.,  89., 107.,  97., 100., 101., 106., 102., 102.,  89.]),\n",
       " array([5.84812025e-04, 1.00451627e-01, 2.00318442e-01, 3.00185257e-01,\n",
       "        4.00052073e-01, 4.99918888e-01, 5.99785703e-01, 6.99652518e-01,\n",
       "        7.99519333e-01, 8.99386148e-01, 9.99252963e-01]),\n",
       " <a list of 10 Patch objects>)"
      ]
     },
     "execution_count": 8,
     "metadata": {},
     "output_type": "execute_result"
    },
    {
     "data": {
      "image/png": "[encoded data removed]",
      "text/plain": [
       "<Figure size 720x144 with 1 Axes>"
      ]
     },
     "metadata": {
      "needs_background": "light"
     },
     "output_type": "display_data"
    }
   ],
   "source": [
    "# resizing of chart\n",
    "plt.figure(figsize=[10,2])\n",
    "# generate 1000 random numbers between 0 inclusive and 1 exclusive \n",
    "x = np.random.rand(1000)\n",
    "plt.title('Uniform Distribution Histogram')\n",
    "# plot x label\n",
    "plt.ylabel('Frequency')\n",
    "# plot y label\n",
    "plt.xlabel('Value')\n",
    "# plot a histogram\n",
    "plt.hist(x)"
   ]
  },
  {
   "cell_type": "markdown",
   "metadata": {},
   "source": [
    "Output returns 2 arrays where first array displays count of ocurencies from each range and second array with a list of all random numbers. Random numbers are almost equally distributed along full range of numbers between 0 and 1."
   ]
  },
  {
   "cell_type": "markdown",
   "metadata": {},
   "source": [
    "### Normal (Standard) distribution"
   ]
  },
  {
   "cell_type": "code",
   "execution_count": 9,
   "metadata": {},
   "outputs": [
    {
     "data": {
      "text/plain": [
       "(array([  8.,  17.,  74., 164., 229., 235., 175.,  76.,  16.,   6.]),\n",
       " array([-3.19449188, -2.56973139, -1.94497091, -1.32021042, -0.69544994,\n",
       "        -0.07068945,  0.55407103,  1.17883152,  1.803592  ,  2.42835249,\n",
       "         3.05311297]),\n",
       " <a list of 10 Patch objects>)"
      ]
     },
     "execution_count": 9,
     "metadata": {},
     "output_type": "execute_result"
    },
    {
     "data": {
      "image/png": "[encoded data removed]",
      "text/plain": [
       "<Figure size 720x144 with 1 Axes>"
      ]
     },
     "metadata": {
      "needs_background": "light"
     },
     "output_type": "display_data"
    }
   ],
   "source": [
    "# resizing of chart\n",
    "plt.figure(figsize=[10,2])\n",
    "# generate 1000 random numbers  \n",
    "x = np.random.randn(1000)\n",
    "plt.title('Normal Distribution Histogram using randn function')\n",
    "# plot x label\n",
    "plt.ylabel('Frequency')\n",
    "# plot y label\n",
    "plt.xlabel('Value')\n",
    "# plot a histogram\n",
    "plt.hist(x)"
   ]
  },
  {
   "cell_type": "markdown",
   "metadata": {},
   "source": [
    "Another way of calculating normal distribution calling \"normal\" function."
   ]
  },
  {
   "cell_type": "code",
   "execution_count": 10,
   "metadata": {},
   "outputs": [
    {
     "data": {
      "text/plain": [
       "(array([  1.,   7.,  43., 119., 241., 251., 205., 103.,  26.,   4.]),\n",
       " array([ 996.32941919,  997.01813329,  997.70684739,  998.39556149,\n",
       "         999.08427559,  999.77298969, 1000.46170378, 1001.15041788,\n",
       "        1001.83913198, 1002.52784608, 1003.21656018]),\n",
       " <a list of 10 Patch objects>)"
      ]
     },
     "execution_count": 10,
     "metadata": {},
     "output_type": "execute_result"
    },
    {
     "data": {
      "image/png": "[encoded data removed]",
      "text/plain": [
       "<Figure size 720x144 with 1 Axes>"
      ]
     },
     "metadata": {
      "needs_background": "light"
     },
     "output_type": "display_data"
    }
   ],
   "source": [
    "# resizing of chart\n",
    "plt.figure(figsize=[10,2])\n",
    "# generate 1000 random numbers with a normal distribution\n",
    "x = np.random.normal(1000,size=1000)\n",
    "plt.title('Normal Distribution Histogram using normal function')\n",
    "# plot x label\n",
    "plt.ylabel('Frequency')\n",
    "# plot y label\n",
    "plt.xlabel('Value')\n",
    "# plot a histogram\n",
    "plt.hist(x)"
   ]
  },
  {
   "cell_type": "markdown",
   "metadata": {},
   "source": [
    "Normal distribution, also known as the Gaussian distribution, is a probability distribution that is symmetric about the mean, showing that data near the mean are more frequent in occurrence than data far from the mean. In graph form, normal distribution will appear as a bell curve."
   ]
  },
  {
   "cell_type": "markdown",
   "metadata": {},
   "source": [
    "### Permutation\n",
    "In mathematics, a permutation of a set is, loosely speaking, an arrangement of its members into a sequence or linear order, or if the set is already ordered, a rearrangement of its elements. The word \"permutation\" also refers to the act or process of changing the linear order of an ordered set[5]. Numpy recognize two types of permutations. "
   ]
  },
  {
   "cell_type": "code",
   "execution_count": 11,
   "metadata": {},
   "outputs": [
    {
     "data": {
      "text/plain": [
       "array([ 0,  1,  2,  3,  4,  5,  6,  7,  8,  9, 10, 11, 12, 13, 14, 15, 16,\n",
       "       17, 18, 19])"
      ]
     },
     "execution_count": 11,
     "metadata": {},
     "output_type": "execute_result"
    }
   ],
   "source": [
    "# arrange return evenly spaced values within a given interval of 20 elements \n",
    "arr = np.arange(20)\n",
    "arr"
   ]
  },
  {
   "cell_type": "markdown",
   "metadata": {},
   "source": [
    "First of the two permutations is a function routine called shuffle. Shuffle is randomly and **pernamently** reordering elements within array."
   ]
  },
  {
   "cell_type": "code",
   "execution_count": 12,
   "metadata": {},
   "outputs": [
    {
     "data": {
      "text/plain": [
       "array([15, 13, 18, 11, 10,  2,  6,  9,  3,  8,  7, 19,  1, 17,  5, 14,  0,\n",
       "       16,  4, 12])"
      ]
     },
     "execution_count": 12,
     "metadata": {},
     "output_type": "execute_result"
    }
   ],
   "source": [
    "# shuffle return reordered array of original 20 elemnents.\n",
    "np.random.shuffle(arr)\n",
    "arr"
   ]
  },
  {
   "cell_type": "markdown",
   "metadata": {},
   "source": [
    "Reshaping original array into two dimensional array."
   ]
  },
  {
   "cell_type": "code",
   "execution_count": 13,
   "metadata": {},
   "outputs": [
    {
     "data": {
      "text/plain": [
       "array([[ 0,  1,  2,  3,  4],\n",
       "       [ 5,  6,  7,  8,  9],\n",
       "       [10, 11, 12, 13, 14],\n",
       "       [15, 16, 17, 18, 19],\n",
       "       [20, 21, 22, 23, 24]])"
      ]
     },
     "execution_count": 13,
     "metadata": {},
     "output_type": "execute_result"
    }
   ],
   "source": [
    "arr = np.arange(25).reshape((5, 5))\n",
    "arr"
   ]
  },
  {
   "cell_type": "markdown",
   "metadata": {},
   "source": [
    "Its interesting to see that when using numpy function shape to craate such a arrangement, shuffle **only** reorders block of elements rather that every single element within two dimensional array."
   ]
  },
  {
   "cell_type": "code",
   "execution_count": 14,
   "metadata": {},
   "outputs": [
    {
     "data": {
      "text/plain": [
       "array([[20, 21, 22, 23, 24],\n",
       "       [ 0,  1,  2,  3,  4],\n",
       "       [ 5,  6,  7,  8,  9],\n",
       "       [10, 11, 12, 13, 14],\n",
       "       [15, 16, 17, 18, 19]])"
      ]
     },
     "execution_count": 14,
     "metadata": {},
     "output_type": "execute_result"
    }
   ],
   "source": [
    "np.random.shuffle(arr)\n",
    "arr"
   ]
  },
  {
   "cell_type": "markdown",
   "metadata": {},
   "source": [
    "Second of Permutation function is Permutation itself. Permutation also works with a **Integers**."
   ]
  },
  {
   "cell_type": "markdown",
   "metadata": {},
   "source": [
    "Below is proof that neither float or char can be used with permutation function."
   ]
  },
  {
   "cell_type": "code",
   "execution_count": 15,
   "metadata": {},
   "outputs": [],
   "source": [
    "# np.random.permutation(1.7)\n",
    "# np.random.permutation(\"abc\")"
   ]
  },
  {
   "cell_type": "markdown",
   "metadata": {},
   "source": [
    "Correct use. Given output for Integer parameter."
   ]
  },
  {
   "cell_type": "code",
   "execution_count": 16,
   "metadata": {},
   "outputs": [
    {
     "data": {
      "text/plain": [
       "array([1, 4, 3, 5, 9, 6, 7, 8, 0, 2])"
      ]
     },
     "execution_count": 16,
     "metadata": {},
     "output_type": "execute_result"
    }
   ],
   "source": [
    "arr=np.random.permutation(10)\n",
    "arr"
   ]
  },
  {
   "cell_type": "markdown",
   "metadata": {},
   "source": [
    "Correct use. Given output for array parameter."
   ]
  },
  {
   "cell_type": "code",
   "execution_count": 17,
   "metadata": {},
   "outputs": [
    {
     "data": {
      "text/plain": [
       "array([1, 3, 5, 2, 4])"
      ]
     },
     "execution_count": 17,
     "metadata": {},
     "output_type": "execute_result"
    }
   ],
   "source": [
    "arr=np.random.permutation([1,2,3,4,5])\n",
    "arr"
   ]
  },
  {
   "cell_type": "markdown",
   "metadata": {},
   "source": [
    "Once again permutation only rearrange segment of elements but not elements itself."
   ]
  },
  {
   "cell_type": "code",
   "execution_count": 18,
   "metadata": {},
   "outputs": [
    {
     "data": {
      "text/plain": [
       "array([[3, 4, 5],\n",
       "       [0, 1, 2],\n",
       "       [6, 7, 8]])"
      ]
     },
     "execution_count": 18,
     "metadata": {},
     "output_type": "execute_result"
    }
   ],
   "source": [
    "arr=np.random.permutation( np.arange(9).reshape((3, 3)))\n",
    "arr"
   ]
  },
  {
   "cell_type": "markdown",
   "metadata": {},
   "source": [
    "### Distributions\n",
    "In probability theory and statistics, a probability distribution is the mathematical function that gives the probabilities of occurrence of different possible outcomes for an experiment. It is a mathematical description of a random phenomenon in terms of its sample space and the probabilities of events (subsets of the sample space)[6]. There are many of probability distributions that fits a different purpouses. "
   ]
  },
  {
   "cell_type": "markdown",
   "metadata": {},
   "source": [
    "### Binomial distribution\n",
    "Binomial distribution is representative of the probability, p of a series of 'successes' in a number n of trials in an experiment which can have two possible outcomes ('pass' or 'fail'). The probability density for the binomial distribution calculates as follow:\n",
    "\n",
    "\n"
   ]
  },
  {
   "cell_type": "markdown",
   "metadata": {},
   "source": [
    "![Image of formula to calculate binomial distribution](https://github.com/rastislp/Programming_for_Data_Analysis/blob/main/images/binomial.PNG?raw=true)"
   ]
  },
  {
   "cell_type": "markdown",
   "metadata": {},
   "source": [
    "A three assumptions needs to be fullfiled for experiment to be considered binomial:\n",
    "\n",
    "* The experiment has two possible outcomes \n",
    "* The trials in the experiment are independent\n",
    "* The probability of a success in each trial is constant\n",
    "\n",
    "Real life example of Binomial distribution."
   ]
  },
  {
   "cell_type": "code",
   "execution_count": 19,
   "metadata": {},
   "outputs": [
    {
     "data": {
      "text/plain": [
       "array([7, 8, 6, 4, 4, 5, 6, 7, 3, 5, 7, 2, 4, 6, 3, 6, 4, 5, 2, 4, 7, 6,\n",
       "       4, 3, 4, 6, 5, 8, 2, 3, 5, 3, 4, 6, 6, 3, 8, 2, 5, 3, 4, 6, 3, 6,\n",
       "       5, 5, 4, 5, 5, 7, 4, 2, 6, 8, 8, 4, 7, 6, 4, 6, 7, 5, 2, 6, 1, 7,\n",
       "       4, 5, 7, 4, 4, 4, 4, 5, 4, 5, 4, 5, 6, 3, 6, 7, 3, 9, 4, 4, 5, 5,\n",
       "       5, 5, 6, 2, 5, 3, 7, 3, 4, 5, 3, 5])"
      ]
     },
     "execution_count": 19,
     "metadata": {},
     "output_type": "execute_result"
    }
   ],
   "source": [
    "# number of trials, probability of each trial\n",
    "n, p = 10, .5  \n",
    "s = np.random.binomial(n, p, 100)\n",
    "# result of flipping a coin 10 times, tested 100 times.\n",
    "s"
   ]
  },
  {
   "cell_type": "code",
   "execution_count": 20,
   "metadata": {},
   "outputs": [
    {
     "data": {
      "text/plain": [
       "4.84"
      ]
     },
     "execution_count": 20,
     "metadata": {},
     "output_type": "execute_result"
    }
   ],
   "source": [
    "# As p=0.5 as there are only two possible outcomes of following experiment (head or tail) chances should be nearing 50% for \n",
    "# each of the side. \n",
    "np.mean(s)\n",
    "# Mean represents a expected average value of 100 elements which are representing success of above experiment. "
   ]
  },
  {
   "cell_type": "markdown",
   "metadata": {},
   "source": [
    "Graphical representation of above experiment."
   ]
  },
  {
   "cell_type": "code",
   "execution_count": 21,
   "metadata": {},
   "outputs": [
    {
     "data": {
      "text/plain": [
       "Text(0, 0.5, 'Probability')"
      ]
     },
     "execution_count": 21,
     "metadata": {},
     "output_type": "execute_result"
    },
    {
     "data": {
      "image/png": "[encoded data removed]",
      "text/plain": [
       "<Figure size 432x288 with 1 Axes>"
      ]
     },
     "metadata": {
      "needs_background": "light"
     },
     "output_type": "display_data"
    }
   ],
   "source": [
    "# import seaborn library \n",
    "import seaborn as sns\n",
    "# binomial distribution of 100 tests, p=0.5 and number of trials\n",
    "h = np.random.binomial(10, 0.5, 100) \n",
    "# plot histogram with a kernel density estimate\n",
    "sns.distplot(h, color = 'g', bins=50); \n",
    "plt.title('Binomial Distribution')\n",
    "plt.xlabel('Number of \"Succeses\" out of 10 tials ')\n",
    "plt.ylabel('Probability')"
   ]
  },
  {
   "cell_type": "markdown",
   "metadata": {},
   "source": [
    "Lets say that chances aren't even. What if tail side of coin is cast of heavier material. Chances that coin lands on tail side grows dramatically. Lets say our new p= 0.9 . Therefore chances that we see the Head on the top are 9 out of 10.   "
   ]
  },
  {
   "cell_type": "code",
   "execution_count": 22,
   "metadata": {},
   "outputs": [
    {
     "data": {
      "text/plain": [
       "Text(0, 0.5, 'Probability')"
      ]
     },
     "execution_count": 22,
     "metadata": {},
     "output_type": "execute_result"
    },
    {
     "data": {
      "image/png": "[encoded data removed]",
      "text/plain": [
       "<Figure size 432x288 with 1 Axes>"
      ]
     },
     "metadata": {
      "needs_background": "light"
     },
     "output_type": "display_data"
    }
   ],
   "source": [
    "# import seaborn library \n",
    "import seaborn as sns\n",
    "# binomial distribution of 100 tests, p=0.9 and number of trials\n",
    "h = np.random.binomial(10, 0.9, 100) \n",
    "# plot histogram with a kernel density estimate\n",
    "sns.distplot(h, color = 'g', bins=50); \n",
    "plt.title('Binomial Distribution')\n",
    "plt.xlabel('Number of \"Succeses\" out of 10 tials ')\n",
    "plt.ylabel('Probability')\n"
   ]
  },
  {
   "cell_type": "markdown",
   "metadata": {},
   "source": [
    "Probability of above experiment with fake coin is around 9 out of 10."
   ]
  },
  {
   "cell_type": "code",
   "execution_count": 23,
   "metadata": {},
   "outputs": [
    {
     "data": {
      "text/plain": [
       "8.97"
      ]
     },
     "execution_count": 23,
     "metadata": {},
     "output_type": "execute_result"
    }
   ],
   "source": [
    "np.mean(h)"
   ]
  },
  {
   "cell_type": "markdown",
   "metadata": {},
   "source": [
    "### Exponential distribution"
   ]
  },
  {
   "cell_type": "markdown",
   "metadata": {},
   "source": [
    "The exponential distribution is often concerned with the amount of time until some specific event occurs.The exponential distribution is widely used in the field of reliability. Reliability deals with the amount of time a product lasts.[7]"
   ]
  },
  {
   "cell_type": "code",
   "execution_count": 26,
   "metadata": {},
   "outputs": [
    {
     "data": {
      "text/plain": [
       "Text(0, 0.5, 'f(x)')"
      ]
     },
     "execution_count": 26,
     "metadata": {},
     "output_type": "execute_result"
    },
    {
     "data": {
      "image/png": "[encoded data removed]",
      "text/plain": [
       "<Figure size 432x288 with 1 Axes>"
      ]
     },
     "metadata": {
      "needs_background": "light"
     },
     "output_type": "display_data"
    }
   ],
   "source": [
    "Q = np.random.exponential(5,10000)\n",
    "P = np.random.exponential(50,10000)\n",
    "#The 'distplot' seaborn function plots a univariate distribution of observations and combines a hist plot with a probability density (seaborn.kdeplot) plot\n",
    "ax = sns.distplot(Q, color = 'g',) \n",
    "ax = sns.distplot(P, color = 'g',)\n",
    "plt.title('Exponential Distribution')\n",
    "plt.xlabel('x variables')\n",
    "plt.ylabel('f(x)')"
   ]
  },
  {
   "cell_type": "code",
   "execution_count": null,
   "metadata": {},
   "outputs": [],
   "source": []
  },
  {
   "cell_type": "code",
   "execution_count": null,
   "metadata": {},
   "outputs": [],
   "source": []
  },
  {
   "cell_type": "markdown",
   "metadata": {},
   "source": [
    "### Referencing:"
   ]
  },
  {
   "cell_type": "markdown",
   "metadata": {},
   "source": [
    "[1] Sight, S., 2020. How To Use Numpy Random Normal In Python – R-Craft. [online] R-Craft. Available at: <https://www.r-craft.org/r-news/how-to-use-numpy-random-normal-in-python/> [Accessed 16 November 2020]."
   ]
  },
  {
   "cell_type": "markdown",
   "metadata": {},
   "source": [
    "[2] Numpy.org. 2020. Random Sampling (Numpy.Random) — Numpy V1.19 Manual. [online] Available at: <https://numpy.org/doc/stable/reference/random/index.html> [Accessed 16 November 2020]."
   ]
  },
  {
   "cell_type": "markdown",
   "metadata": {},
   "source": [
    "[3] THAT-A-SCIENCE. 2020. Normal Distribution Vs Uniform Distribution | Numpy | THAT-A-SCIENCE. [online] Available at: <https://thatascience.com/learn-numpy/normal-vs-uniform/#:~:text=Normal%20Distribution%20is%20a%20probability,probability%20of%20x%20is%20constant.&text=Uniform%20Distribution%20is%20a%20probability%20distribution%20where%20probability%20of%20x%20is%20constant.> [Accessed 16 November 2020]."
   ]
  },
  {
   "cell_type": "markdown",
   "metadata": {},
   "source": [
    "[4] En.wikipedia.org. 2020. Normal Distribution. [online] Available at: <https://en.wikipedia.org/wiki/Normal_distribution> [Accessed 16 November 2020]."
   ]
  },
  {
   "cell_type": "markdown",
   "metadata": {},
   "source": [
    "[5] En.wikipedia.org. 2020. Permutation. [online] Available at: <En.wikipedia.org. 2020. Normal Distribution. [online] Available at: <https://en.wikipedia.org/wiki/Normal_distribution> . [Accessed 17 November 2020]."
   ]
  },
  {
   "cell_type": "markdown",
   "metadata": {},
   "source": [
    "[6] En.wikipedia.org. 2020. Probability Distribution. [online] Available at: <https://en.wikipedia.org/wiki/Probability_distribution> [Accessed 17 November 2020]."
   ]
  },
  {
   "cell_type": "markdown",
   "metadata": {},
   "source": [
    "[7] Courses.lumenlearning.com. 2020. The Exponential Distribution | Introduction To Statistics. [online] Available at: <https://courses.lumenlearning.com/introstats1/chapter/the-exponential-distribution/> [Accessed 17 November 2020]."
   ]
  },
  {
   "cell_type": "code",
   "execution_count": null,
   "metadata": {},
   "outputs": [],
   "source": []
  }
 ],
 "metadata": {
  "kernelspec": {
   "display_name": "Python 3",
   "language": "python",
   "name": "python3"
  },
  "language_info": {
   "codemirror_mode": {
    "name": "ipython",
    "version": 3
   },
   "file_extension": ".py",
   "mimetype": "text/x-python",
   "name": "python",
   "nbconvert_exporter": "python",
   "pygments_lexer": "ipython3",
   "version": "3.7.4"
  }
 },
 "nbformat": 4,
 "nbformat_minor": 2
}
